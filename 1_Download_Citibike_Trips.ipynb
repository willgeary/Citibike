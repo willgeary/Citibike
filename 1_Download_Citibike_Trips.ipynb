{
 "cells": [
  {
   "cell_type": "markdown",
   "metadata": {},
   "source": [
    "# Download Citibike trip data from January 2017 through March 2018"
   ]
  },
  {
   "cell_type": "markdown",
   "metadata": {},
   "source": [
    "Citibike trips data source: https://www.citibikenyc.com/system-data"
   ]
  },
  {
   "cell_type": "code",
   "execution_count": 328,
   "metadata": {
    "collapsed": true
   },
   "outputs": [],
   "source": [
    "import os\n",
    "from os.path import join\n",
    "import pandas as pd\n",
    "from tqdm import tqdm"
   ]
  },
  {
   "cell_type": "code",
   "execution_count": 329,
   "metadata": {
    "collapsed": true
   },
   "outputs": [],
   "source": [
    "nyc_citibike_urls = [\n",
    "    \"https://s3.amazonaws.com/tripdata/201701-citibike-tripdata.csv.zip\",\n",
    "    \"https://s3.amazonaws.com/tripdata/201702-citibike-tripdata.csv.zip\",\n",
    "    \"https://s3.amazonaws.com/tripdata/201703-citibike-tripdata.csv.zip\",\n",
    "    \"https://s3.amazonaws.com/tripdata/201704-citibike-tripdata.csv.zip\",\n",
    "    \"https://s3.amazonaws.com/tripdata/201705-citibike-tripdata.csv.zip\",\n",
    "    \"https://s3.amazonaws.com/tripdata/201706-citibike-tripdata.csv.zip\",\n",
    "    \"https://s3.amazonaws.com/tripdata/201707-citibike-tripdata.csv.zip\",\n",
    "    \"https://s3.amazonaws.com/tripdata/201708-citibike-tripdata.csv.zip\",\n",
    "    \"https://s3.amazonaws.com/tripdata/201709-citibike-tripdata.csv.zip\",\n",
    "    \"https://s3.amazonaws.com/tripdata/201710-citibike-tripdata.csv.zip\",\n",
    "    \"https://s3.amazonaws.com/tripdata/201711-citibike-tripdata.csv.zip\",\n",
    "    \"https://s3.amazonaws.com/tripdata/201712-citibike-tripdata.csv.zip\",\n",
    "    \"https://s3.amazonaws.com/tripdata/201801_citibikenyc_tripdata.csv.zip\",\n",
    "    \"https://s3.amazonaws.com/tripdata/201802_citibikenyc_tripdata.csv.zip\",\n",
    "    \"https://s3.amazonaws.com/tripdata/201803_citibikenyc_tripdata.csv.zip\"\n",
    "]\n",
    "\n",
    "jerseycity_citibike_urls = [\n",
    "    \"https://s3.amazonaws.com/tripdata/JC-201701-citibike-tripdata.csv.zip\",\n",
    "    \"https://s3.amazonaws.com/tripdata/JC-201702-citibike-tripdata.csv.zip\",\n",
    "    \"https://s3.amazonaws.com/tripdata/JC-201703-citibike-tripdata.csv.zip\",\n",
    "    \"https://s3.amazonaws.com/tripdata/JC-201704-citibike-tripdata.csv.zip\",\n",
    "    \"https://s3.amazonaws.com/tripdata/JC-201705-citibike-tripdata.csv.zip\",\n",
    "    \"https://s3.amazonaws.com/tripdata/JC-201706-citibike-tripdata.csv.zip\",\n",
    "    \"https://s3.amazonaws.com/tripdata/JC-201707-citibike-tripdata.csv.zip\",\n",
    "    \"https://s3.amazonaws.com/tripdata/JC-201708%20citibike-tripdata.csv.zip\",\n",
    "    \"https://s3.amazonaws.com/tripdata/JC-201709-citibike-tripdata.csv.zip\",\n",
    "    \"https://s3.amazonaws.com/tripdata/JC-201710-citibike-tripdata.csv.zip\",\n",
    "    \"https://s3.amazonaws.com/tripdata/JC-201711-citibike-tripdata.csv.zip\",\n",
    "    \"https://s3.amazonaws.com/tripdata/JC-201712-citibike-tripdata.csv.zip\",\n",
    "    \"https://s3.amazonaws.com/tripdata/201801_citibikejc_tripdata.csv.zip\",\n",
    "    \"https://s3.amazonaws.com/tripdata/201802_citibikejc_tripdata.csv.zip\",\n",
    "    \"https://s3.amazonaws.com/tripdata/201803_citibikejc_tripdata.csv.zip\",\n",
    "]"
   ]
  },
  {
   "cell_type": "code",
   "execution_count": 351,
   "metadata": {},
   "outputs": [],
   "source": [
    "def download_citibike_trips(url, city):\n",
    "    \n",
    "    # Read zipfile into dataframe\n",
    "    df = pd.read_csv(url, compression=\"infer\")\n",
    "\n",
    "    # Delete a junk column that exists in some but not all months\n",
    "    if 'name_localizedValue0' in df.columns:\n",
    "        del df['name_localizedValue0']\n",
    "\n",
    "    # Rename columns\n",
    "    df.columns = ['tripduration', 'starttime', 'stoptime', 'start_station_id',\n",
    "          'start_station_name', 'start_station_latitude', 'start_station_longitude', \n",
    "          'end_station_id', 'end_station_name','end_station_latitude', 'end_station_longitude',\n",
    "          'bike_id', 'user_type', 'user_birth_year', 'user_gender']\n",
    "\n",
    "    # Drop any rows with zero for coordinates\n",
    "    df = df[df['start_station_latitude'] != 0.0]\n",
    "    df = df[df['start_station_longitude'] != 0.0]\n",
    "    df = df[df['end_station_latitude'] != 0.0]\n",
    "    df = df[df['end_station_longitude'] != 0.0]\n",
    "    \n",
    "    # Keep track of city: NYC or JC (Jersey City)\n",
    "    df['city'] = city\n",
    "    \n",
    "    # Create a linestring geometry object\n",
    "    df['linestring'] = \"LINESTRING(\" + df['start_station_longitude'].astype(str) + \" \" + \\\n",
    "                    df['start_station_latitude'].astype(str) + \", \" + \\\n",
    "                    df['end_station_longitude'].astype(str) + \" \" + \\\n",
    "                    df['end_station_latitude'].astype(str) + \")\"\n",
    "                \n",
    "    # Create a logical filename, i.e. 201701_NYC.csv, 201702_NYC.csv, etc.\n",
    "    outfilename = i.replace(\"https://s3.amazonaws.com/tripdata/\",\"\").replace(\".csv.zip\",\"\").replace(\"JC-\",\"\")[:6]\n",
    "    outfilename += \"_\" + city + \".csv\"\n",
    "    \n",
    "    # Define output filepath\n",
    "    outfilepath = join(\"data\", \"citibike_trips\", outfilename)\n",
    "    \n",
    "    # Save dataframe to csv\n",
    "    df.to_csv(outfilepath)"
   ]
  },
  {
   "cell_type": "code",
   "execution_count": 352,
   "metadata": {},
   "outputs": [
    {
     "name": "stderr",
     "output_type": "stream",
     "text": [
      "\n",
      "  0%|          | 0/15 [00:00<?, ?it/s]\u001b[A"
     ]
    },
    {
     "name": "stdout",
     "output_type": "stream",
     "text": [
      "Downloading NYC Citibike trips\n"
     ]
    },
    {
     "name": "stderr",
     "output_type": "stream",
     "text": [
      "\n",
      "Exception in thread Thread-8:\n",
      "Traceback (most recent call last):\n",
      "  File \"/anaconda/envs/py36/lib/python3.6/threading.py\", line 916, in _bootstrap_inner\n",
      "    self.run()\n",
      "  File \"/anaconda/envs/py36/lib/python3.6/site-packages/tqdm/_monitor.py\", line 63, in run\n",
      "    for instance in self.tqdm_cls._instances:\n",
      "  File \"/anaconda/envs/py36/lib/python3.6/_weakrefset.py\", line 60, in __iter__\n",
      "    for itemref in self.data:\n",
      "RuntimeError: Set changed size during iteration\n",
      "\n",
      "100%|██████████| 15/15 [08:35<00:00, 34.37s/it]\n",
      "  0%|          | 0/15 [00:00<?, ?it/s]"
     ]
    },
    {
     "name": "stdout",
     "output_type": "stream",
     "text": [
      "Downloading Jersey City Citibike trips\n"
     ]
    },
    {
     "name": "stderr",
     "output_type": "stream",
     "text": [
      "100%|██████████| 15/15 [00:21<00:00,  1.43s/it]\n"
     ]
    }
   ],
   "source": [
    "# Make data directory\n",
    "if not os.path.exists(\"data\"):\n",
    "    os.mkdir(\"data\")\n",
    "    \n",
    "output_dir = join(\"data\", \"citibike_trips\")\n",
    "\n",
    "# Make output directory\n",
    "if not os.path.exists(output_dir):\n",
    "    os.mkdir(output_dir)\n",
    "    \n",
    "print(\"Downloading NYC Citibike trips\")\n",
    "\n",
    "# Download nyc citibike trips\n",
    "for i in tqdm(nyc_citibike_urls):\n",
    "    download_citibike_trips(i, \"NYC\")\n",
    "    \n",
    "print(\"Downloading Jersey City Citibike trips\")\n",
    "    \n",
    "# Download jersey city citibike trips\n",
    "for i in tqdm(jerseycity_citibike_urls):\n",
    "    download_citibike_trips(i, \"JC\")"
   ]
  }
 ],
 "metadata": {
  "kernelspec": {
   "display_name": "Python 3",
   "language": "python",
   "name": "python3"
  },
  "language_info": {
   "codemirror_mode": {
    "name": "ipython",
    "version": 3
   },
   "file_extension": ".py",
   "mimetype": "text/x-python",
   "name": "python",
   "nbconvert_exporter": "python",
   "pygments_lexer": "ipython3",
   "version": "3.6.3"
  }
 },
 "nbformat": 4,
 "nbformat_minor": 2
}
