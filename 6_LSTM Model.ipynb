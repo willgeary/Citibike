{
 "cells": [
  {
   "cell_type": "code",
   "execution_count": 9,
   "metadata": {},
   "outputs": [
    {
     "name": "stderr",
     "output_type": "stream",
     "text": [
      "Using TensorFlow backend.\n",
      "/anaconda/envs/py36/lib/python3.6/importlib/_bootstrap.py:219: RuntimeWarning: compiletime version 3.5 of module 'tensorflow.python.framework.fast_tensor_util' does not match runtime version 3.6\n",
      "  return f(*args, **kwds)\n"
     ]
    }
   ],
   "source": [
    "from sklearn.preprocessing import StandardScaler, RobustScaler, MinMaxScaler, Normalizer\n",
    "from sklearn.model_selection import cross_val_score\n",
    "from sklearn.preprocessing import MinMaxScaler\n",
    "from sklearn.metrics import mean_squared_error\n",
    "from sklearn.metrics import r2_score\n",
    "from sklearn.utils import shuffle\n",
    "from sklearn.model_selection import train_test_split\n",
    "\n",
    "from keras.models import Sequential\n",
    "from keras.layers import Dense\n",
    "from keras.layers import LSTM\n",
    "from keras.layers import Dropout\n",
    "from keras.layers import Activation\n",
    "\n",
    "import matplotlib.pyplot as plt\n",
    "import seaborn as sns\n",
    "import math\n",
    "import pandas as pd\n",
    "import numpy as np\n",
    "from os.path import join\n",
    "import os\n",
    "from tqdm import tqdm"
   ]
  },
  {
   "cell_type": "markdown",
   "metadata": {},
   "source": [
    "# Read in hourly volume datasets"
   ]
  },
  {
   "cell_type": "code",
   "execution_count": 14,
   "metadata": {},
   "outputs": [
    {
     "name": "stdout",
     "output_type": "stream",
     "text": [
      "CPU times: user 27.4 s, sys: 1.6 s, total: 29 s\n",
      "Wall time: 29.2 s\n"
     ]
    }
   ],
   "source": [
    "%%time\n",
    "input_dir = join(\"data\", \"citibike_departures\")\n",
    "input_filename = \"citibike_departures_lags.csv\"\n",
    "departures_by_neighborhood_lagged = pd.read_csv(join(input_dir, input_filename), index_col=0)"
   ]
  },
  {
   "cell_type": "code",
   "execution_count": 17,
   "metadata": {},
   "outputs": [
    {
     "data": {
      "text/plain": [
       "(10752, 8788)"
      ]
     },
     "execution_count": 17,
     "metadata": {},
     "output_type": "execute_result"
    }
   ],
   "source": [
    "departures_by_neighborhood_lagged.shape"
   ]
  },
  {
   "cell_type": "code",
   "execution_count": 15,
   "metadata": {},
   "outputs": [
    {
     "name": "stdout",
     "output_type": "stream",
     "text": [
      "CPU times: user 28.6 s, sys: 1.73 s, total: 30.3 s\n",
      "Wall time: 30.5 s\n"
     ]
    }
   ],
   "source": [
    "%%time\n",
    "input_dir = join(\"data\", \"citibike_arrivals\")\n",
    "input_filename = \"citibike_arrivals_lags.csv\"\n",
    "arrivals_by_neighborhood_lagged = pd.read_csv(join(input_dir, input_filename), index_col=0)"
   ]
  },
  {
   "cell_type": "code",
   "execution_count": 16,
   "metadata": {},
   "outputs": [
    {
     "data": {
      "text/plain": [
       "(10752, 8788)"
      ]
     },
     "execution_count": 16,
     "metadata": {},
     "output_type": "execute_result"
    }
   ],
   "source": [
    "arrivals_by_neighborhood_lagged.shape"
   ]
  },
  {
   "cell_type": "markdown",
   "metadata": {},
   "source": [
    "# Model # 1: Forecast Hourly Departures"
   ]
  },
  {
   "cell_type": "code",
   "execution_count": 20,
   "metadata": {},
   "outputs": [
    {
     "data": {
      "text/html": [
       "<div>\n",
       "<style scoped>\n",
       "    .dataframe tbody tr th:only-of-type {\n",
       "        vertical-align: middle;\n",
       "    }\n",
       "\n",
       "    .dataframe tbody tr th {\n",
       "        vertical-align: top;\n",
       "    }\n",
       "\n",
       "    .dataframe thead th {\n",
       "        text-align: right;\n",
       "    }\n",
       "</style>\n",
       "<table border=\"1\" class=\"dataframe\">\n",
       "  <thead>\n",
       "    <tr style=\"text-align: right;\">\n",
       "      <th></th>\n",
       "      <th>BK09</th>\n",
       "      <th>BK09_t-1</th>\n",
       "      <th>BK09_t-2</th>\n",
       "      <th>BK09_t-3</th>\n",
       "      <th>BK09_t-4</th>\n",
       "      <th>BK09_t-5</th>\n",
       "      <th>BK09_t-6</th>\n",
       "      <th>BK09_t-7</th>\n",
       "      <th>BK09_t-8</th>\n",
       "      <th>BK09_t-9</th>\n",
       "      <th>...</th>\n",
       "      <th>QN99_t-159</th>\n",
       "      <th>QN99_t-160</th>\n",
       "      <th>QN99_t-161</th>\n",
       "      <th>QN99_t-162</th>\n",
       "      <th>QN99_t-163</th>\n",
       "      <th>QN99_t-164</th>\n",
       "      <th>QN99_t-165</th>\n",
       "      <th>QN99_t-166</th>\n",
       "      <th>QN99_t-167</th>\n",
       "      <th>QN99_t-168</th>\n",
       "    </tr>\n",
       "  </thead>\n",
       "  <tbody>\n",
       "    <tr>\n",
       "      <th>2017-01-08 00:00:00</th>\n",
       "      <td>2</td>\n",
       "      <td>1.0</td>\n",
       "      <td>0.0</td>\n",
       "      <td>2.0</td>\n",
       "      <td>1.0</td>\n",
       "      <td>0.0</td>\n",
       "      <td>2.0</td>\n",
       "      <td>2.0</td>\n",
       "      <td>0.0</td>\n",
       "      <td>2.0</td>\n",
       "      <td>...</td>\n",
       "      <td>0.0</td>\n",
       "      <td>0.0</td>\n",
       "      <td>0.0</td>\n",
       "      <td>0.0</td>\n",
       "      <td>0.0</td>\n",
       "      <td>0.0</td>\n",
       "      <td>0.0</td>\n",
       "      <td>0.0</td>\n",
       "      <td>0.0</td>\n",
       "      <td>0.0</td>\n",
       "    </tr>\n",
       "    <tr>\n",
       "      <th>2017-01-08 01:00:00</th>\n",
       "      <td>0</td>\n",
       "      <td>2.0</td>\n",
       "      <td>1.0</td>\n",
       "      <td>0.0</td>\n",
       "      <td>2.0</td>\n",
       "      <td>1.0</td>\n",
       "      <td>0.0</td>\n",
       "      <td>2.0</td>\n",
       "      <td>2.0</td>\n",
       "      <td>0.0</td>\n",
       "      <td>...</td>\n",
       "      <td>0.0</td>\n",
       "      <td>0.0</td>\n",
       "      <td>0.0</td>\n",
       "      <td>0.0</td>\n",
       "      <td>0.0</td>\n",
       "      <td>0.0</td>\n",
       "      <td>0.0</td>\n",
       "      <td>0.0</td>\n",
       "      <td>0.0</td>\n",
       "      <td>0.0</td>\n",
       "    </tr>\n",
       "    <tr>\n",
       "      <th>2017-01-08 02:00:00</th>\n",
       "      <td>0</td>\n",
       "      <td>0.0</td>\n",
       "      <td>2.0</td>\n",
       "      <td>1.0</td>\n",
       "      <td>0.0</td>\n",
       "      <td>2.0</td>\n",
       "      <td>1.0</td>\n",
       "      <td>0.0</td>\n",
       "      <td>2.0</td>\n",
       "      <td>2.0</td>\n",
       "      <td>...</td>\n",
       "      <td>0.0</td>\n",
       "      <td>0.0</td>\n",
       "      <td>0.0</td>\n",
       "      <td>0.0</td>\n",
       "      <td>0.0</td>\n",
       "      <td>0.0</td>\n",
       "      <td>0.0</td>\n",
       "      <td>0.0</td>\n",
       "      <td>0.0</td>\n",
       "      <td>0.0</td>\n",
       "    </tr>\n",
       "    <tr>\n",
       "      <th>2017-01-08 03:00:00</th>\n",
       "      <td>0</td>\n",
       "      <td>0.0</td>\n",
       "      <td>0.0</td>\n",
       "      <td>2.0</td>\n",
       "      <td>1.0</td>\n",
       "      <td>0.0</td>\n",
       "      <td>2.0</td>\n",
       "      <td>1.0</td>\n",
       "      <td>0.0</td>\n",
       "      <td>2.0</td>\n",
       "      <td>...</td>\n",
       "      <td>0.0</td>\n",
       "      <td>0.0</td>\n",
       "      <td>0.0</td>\n",
       "      <td>0.0</td>\n",
       "      <td>0.0</td>\n",
       "      <td>0.0</td>\n",
       "      <td>0.0</td>\n",
       "      <td>0.0</td>\n",
       "      <td>0.0</td>\n",
       "      <td>0.0</td>\n",
       "    </tr>\n",
       "    <tr>\n",
       "      <th>2017-01-08 04:00:00</th>\n",
       "      <td>0</td>\n",
       "      <td>0.0</td>\n",
       "      <td>0.0</td>\n",
       "      <td>0.0</td>\n",
       "      <td>2.0</td>\n",
       "      <td>1.0</td>\n",
       "      <td>0.0</td>\n",
       "      <td>2.0</td>\n",
       "      <td>1.0</td>\n",
       "      <td>0.0</td>\n",
       "      <td>...</td>\n",
       "      <td>0.0</td>\n",
       "      <td>0.0</td>\n",
       "      <td>0.0</td>\n",
       "      <td>0.0</td>\n",
       "      <td>0.0</td>\n",
       "      <td>0.0</td>\n",
       "      <td>0.0</td>\n",
       "      <td>0.0</td>\n",
       "      <td>0.0</td>\n",
       "      <td>0.0</td>\n",
       "    </tr>\n",
       "  </tbody>\n",
       "</table>\n",
       "<p>5 rows × 8788 columns</p>\n",
       "</div>"
      ],
      "text/plain": [
       "                     BK09  BK09_t-1  BK09_t-2  BK09_t-3  BK09_t-4  BK09_t-5  \\\n",
       "2017-01-08 00:00:00     2       1.0       0.0       2.0       1.0       0.0   \n",
       "2017-01-08 01:00:00     0       2.0       1.0       0.0       2.0       1.0   \n",
       "2017-01-08 02:00:00     0       0.0       2.0       1.0       0.0       2.0   \n",
       "2017-01-08 03:00:00     0       0.0       0.0       2.0       1.0       0.0   \n",
       "2017-01-08 04:00:00     0       0.0       0.0       0.0       2.0       1.0   \n",
       "\n",
       "                     BK09_t-6  BK09_t-7  BK09_t-8  BK09_t-9     ...      \\\n",
       "2017-01-08 00:00:00       2.0       2.0       0.0       2.0     ...       \n",
       "2017-01-08 01:00:00       0.0       2.0       2.0       0.0     ...       \n",
       "2017-01-08 02:00:00       1.0       0.0       2.0       2.0     ...       \n",
       "2017-01-08 03:00:00       2.0       1.0       0.0       2.0     ...       \n",
       "2017-01-08 04:00:00       0.0       2.0       1.0       0.0     ...       \n",
       "\n",
       "                     QN99_t-159  QN99_t-160  QN99_t-161  QN99_t-162  \\\n",
       "2017-01-08 00:00:00         0.0         0.0         0.0         0.0   \n",
       "2017-01-08 01:00:00         0.0         0.0         0.0         0.0   \n",
       "2017-01-08 02:00:00         0.0         0.0         0.0         0.0   \n",
       "2017-01-08 03:00:00         0.0         0.0         0.0         0.0   \n",
       "2017-01-08 04:00:00         0.0         0.0         0.0         0.0   \n",
       "\n",
       "                     QN99_t-163  QN99_t-164  QN99_t-165  QN99_t-166  \\\n",
       "2017-01-08 00:00:00         0.0         0.0         0.0         0.0   \n",
       "2017-01-08 01:00:00         0.0         0.0         0.0         0.0   \n",
       "2017-01-08 02:00:00         0.0         0.0         0.0         0.0   \n",
       "2017-01-08 03:00:00         0.0         0.0         0.0         0.0   \n",
       "2017-01-08 04:00:00         0.0         0.0         0.0         0.0   \n",
       "\n",
       "                     QN99_t-167  QN99_t-168  \n",
       "2017-01-08 00:00:00         0.0         0.0  \n",
       "2017-01-08 01:00:00         0.0         0.0  \n",
       "2017-01-08 02:00:00         0.0         0.0  \n",
       "2017-01-08 03:00:00         0.0         0.0  \n",
       "2017-01-08 04:00:00         0.0         0.0  \n",
       "\n",
       "[5 rows x 8788 columns]"
      ]
     },
     "execution_count": 20,
     "metadata": {},
     "output_type": "execute_result"
    }
   ],
   "source": [
    "departures_by_neighborhood_lagged.head()"
   ]
  },
  {
   "cell_type": "code",
   "execution_count": 32,
   "metadata": {
    "collapsed": true
   },
   "outputs": [],
   "source": [
    "# Feature variables\n",
    "feature_columns = [i for i in departures_by_neighborhood_lagged.columns if '_t-' in i]\n",
    "X = departures_by_neighborhood_lagged[feature_columns]\n",
    "\n",
    "# Target variables\n",
    "target_columns = [i for i in departures_by_neighborhood_lagged.columns if '_t-' not in i]\n",
    "y = departures_by_neighborhood_lagged[target_columns]\n",
    "\n",
    "# Reshape to arrays\n",
    "X = np.array(X)\n",
    "\n",
    "num_targets = len(target_columns)\n",
    "y = np.array(y).reshape((len(y), num_targets))"
   ]
  },
  {
   "cell_type": "code",
   "execution_count": 33,
   "metadata": {},
   "outputs": [
    {
     "data": {
      "text/plain": [
       "(10752, 8736)"
      ]
     },
     "execution_count": 33,
     "metadata": {},
     "output_type": "execute_result"
    }
   ],
   "source": [
    "X.shape"
   ]
  },
  {
   "cell_type": "code",
   "execution_count": 34,
   "metadata": {},
   "outputs": [
    {
     "data": {
      "text/plain": [
       "(10752, 52)"
      ]
     },
     "execution_count": 34,
     "metadata": {},
     "output_type": "execute_result"
    }
   ],
   "source": [
    "y.shape"
   ]
  },
  {
   "cell_type": "markdown",
   "metadata": {},
   "source": [
    "### Split into training and testing data"
   ]
  },
  {
   "cell_type": "code",
   "execution_count": 35,
   "metadata": {
    "collapsed": true
   },
   "outputs": [],
   "source": [
    "n_train_rows = 365 * 24\n",
    "\n",
    "X_train = X[0 : n_train_rows, ]\n",
    "X_test = X[n_train_rows:, ]\n",
    "\n",
    "y_train = y[0 : n_train_rows]\n",
    "y_test = y[n_train_rows:]"
   ]
  },
  {
   "cell_type": "code",
   "execution_count": 36,
   "metadata": {},
   "outputs": [],
   "source": [
    "scaler_X = MinMaxScaler(feature_range=(0, 1))\n",
    "scaler_y = MinMaxScaler(feature_range=(0, 1))\n",
    "\n",
    "X_train = scaler_X.fit_transform(X_train)\n",
    "X_test = scaler_X.fit_transform(X_test)\n",
    "y_train = scaler_y.fit_transform(y_train)\n",
    "y_test = scaler_y.fit_transform(y_test)\n",
    "\n",
    "# Reshape\n",
    "X_train = X_train.reshape(X_train.shape + (1,))\n",
    "X_test = X_test.reshape(X_test.shape + (1,))"
   ]
  },
  {
   "cell_type": "code",
   "execution_count": 37,
   "metadata": {},
   "outputs": [
    {
     "data": {
      "text/plain": [
       "(8760, 8736, 1)"
      ]
     },
     "execution_count": 37,
     "metadata": {},
     "output_type": "execute_result"
    }
   ],
   "source": [
    "X_train.shape"
   ]
  },
  {
   "cell_type": "code",
   "execution_count": 38,
   "metadata": {},
   "outputs": [
    {
     "data": {
      "text/plain": [
       "(8760, 52)"
      ]
     },
     "execution_count": 38,
     "metadata": {},
     "output_type": "execute_result"
    }
   ],
   "source": [
    "y_train.shape"
   ]
  },
  {
   "cell_type": "code",
   "execution_count": 39,
   "metadata": {},
   "outputs": [
    {
     "data": {
      "text/plain": [
       "(1992, 8736, 1)"
      ]
     },
     "execution_count": 39,
     "metadata": {},
     "output_type": "execute_result"
    }
   ],
   "source": [
    "X_test.shape"
   ]
  },
  {
   "cell_type": "code",
   "execution_count": 40,
   "metadata": {},
   "outputs": [
    {
     "data": {
      "text/plain": [
       "(1992, 52)"
      ]
     },
     "execution_count": 40,
     "metadata": {},
     "output_type": "execute_result"
    }
   ],
   "source": [
    "y_test.shape"
   ]
  },
  {
   "cell_type": "markdown",
   "metadata": {},
   "source": [
    "### LSTM"
   ]
  },
  {
   "cell_type": "code",
   "execution_count": 41,
   "metadata": {
    "collapsed": true
   },
   "outputs": [],
   "source": [
    "seed = 7\n",
    "np.random.seed(seed)"
   ]
  },
  {
   "cell_type": "code",
   "execution_count": null,
   "metadata": {},
   "outputs": [
    {
     "name": "stdout",
     "output_type": "stream",
     "text": [
      "Train on 8760 samples, validate on 1992 samples\n",
      "Epoch 1/10\n"
     ]
    }
   ],
   "source": [
    "model = Sequential()\n",
    "model.add(LSTM(100, input_shape=(X_train.shape[1], X_train.shape[2]), return_sequences=False))\n",
    "#model.add(Dense(100, activation='linear'))\n",
    "#model.add(LSTM(100))\n",
    "model.add(Dense(num_targets, activation='linear'))\n",
    "\n",
    "model.compile(loss='mae', optimizer='adam')\n",
    "\n",
    "# fit network\n",
    "history = model.fit(X_train, y_train, epochs=10, batch_size=500,\n",
    "                    validation_data=(X_test, y_test), verbose=2, shuffle=False)"
   ]
  },
  {
   "cell_type": "code",
   "execution_count": null,
   "metadata": {},
   "outputs": [],
   "source": [
    "history_loss = pd.DataFrame()\n",
    "history_loss['train'] = history.history['loss']\n",
    "history_loss['test'] = history.history['val_loss']\n",
    "history_loss.plot(figsize=(10,10), fontsize=16,\n",
    "                title='LSTM Model Loss');"
   ]
  },
  {
   "cell_type": "code",
   "execution_count": null,
   "metadata": {
    "collapsed": true
   },
   "outputs": [],
   "source": [
    "yhat = model.predict(X_test)\n",
    "yhat = scaler_y.inverse_transform(np.array(yhat).reshape((len(yhat), num_targets)))\n",
    "actual = scaler_y.inverse_transform(np.array(y_test).reshape((len(y_test), num_targets)))"
   ]
  },
  {
   "cell_type": "code",
   "execution_count": null,
   "metadata": {
    "collapsed": true
   },
   "outputs": [],
   "source": [
    "results = pd.DataFrame()\n",
    "\n",
    "for i in range(num_targets+1):\n",
    "    prediction_colname = 'pred{}'.format(i)\n",
    "    actual_colname = 'actual{}'.format(i)\n",
    "    results[prediction_colname] = yhat[:i]\n",
    "    results[actual_colname] = actual[:i]"
   ]
  }
 ],
 "metadata": {
  "kernelspec": {
   "display_name": "Python 3",
   "language": "python",
   "name": "python3"
  },
  "language_info": {
   "codemirror_mode": {
    "name": "ipython",
    "version": 3
   },
   "file_extension": ".py",
   "mimetype": "text/x-python",
   "name": "python",
   "nbconvert_exporter": "python",
   "pygments_lexer": "ipython3",
   "version": "3.6.3"
  }
 },
 "nbformat": 4,
 "nbformat_minor": 2
}
