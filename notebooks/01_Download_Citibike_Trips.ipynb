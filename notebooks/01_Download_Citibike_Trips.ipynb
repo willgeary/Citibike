{
 "cells": [
  {
   "cell_type": "markdown",
   "metadata": {},
   "source": [
    "# Download Citibike trip data from January 2016 through March 2018"
   ]
  },
  {
   "cell_type": "markdown",
   "metadata": {},
   "source": [
    "Citibike trips data source: https://www.citibikenyc.com/system-data"
   ]
  },
  {
   "cell_type": "code",
   "execution_count": 1,
   "metadata": {},
   "outputs": [],
   "source": [
    "import os\n",
    "from os.path import join\n",
    "import pandas as pd\n",
    "from tqdm import tqdm"
   ]
  },
  {
   "cell_type": "code",
   "execution_count": 28,
   "metadata": {},
   "outputs": [],
   "source": [
    "nyc_citibike_urls = [\n",
    "    \"https://s3.amazonaws.com/tripdata/201601-citibike-tripdata.zip\",\n",
    "    \"https://s3.amazonaws.com/tripdata/201602-citibike-tripdata.zip\",\n",
    "    \"https://s3.amazonaws.com/tripdata/201603-citibike-tripdata.zip\",\n",
    "    \"https://s3.amazonaws.com/tripdata/201604-citibike-tripdata.zip\",\n",
    "    \"https://s3.amazonaws.com/tripdata/201605-citibike-tripdata.zip\",\n",
    "    \"https://s3.amazonaws.com/tripdata/201606-citibike-tripdata.zip\",\n",
    "    \"https://s3.amazonaws.com/tripdata/201607-citibike-tripdata.zip\",\n",
    "    \"https://s3.amazonaws.com/tripdata/201608-citibike-tripdata.zip\",\n",
    "    \"https://s3.amazonaws.com/tripdata/201609-citibike-tripdata.zip\",\n",
    "    \"https://s3.amazonaws.com/tripdata/201610-citibike-tripdata.zip\",\n",
    "    \"https://s3.amazonaws.com/tripdata/201611-citibike-tripdata.zip\",\n",
    "    \"https://s3.amazonaws.com/tripdata/201612-citibike-tripdata.zip\",    \n",
    "    \"https://s3.amazonaws.com/tripdata/201701-citibike-tripdata.csv.zip\",\n",
    "    \"https://s3.amazonaws.com/tripdata/201702-citibike-tripdata.csv.zip\",\n",
    "    \"https://s3.amazonaws.com/tripdata/201703-citibike-tripdata.csv.zip\",\n",
    "    \"https://s3.amazonaws.com/tripdata/201704-citibike-tripdata.csv.zip\",\n",
    "    \"https://s3.amazonaws.com/tripdata/201705-citibike-tripdata.csv.zip\",\n",
    "    \"https://s3.amazonaws.com/tripdata/201706-citibike-tripdata.csv.zip\",\n",
    "    \"https://s3.amazonaws.com/tripdata/201707-citibike-tripdata.csv.zip\",\n",
    "    \"https://s3.amazonaws.com/tripdata/201708-citibike-tripdata.csv.zip\",\n",
    "    \"https://s3.amazonaws.com/tripdata/201709-citibike-tripdata.csv.zip\",\n",
    "    \"https://s3.amazonaws.com/tripdata/201710-citibike-tripdata.csv.zip\",\n",
    "    \"https://s3.amazonaws.com/tripdata/201711-citibike-tripdata.csv.zip\",\n",
    "    \"https://s3.amazonaws.com/tripdata/201712-citibike-tripdata.csv.zip\",\n",
    "    \"https://s3.amazonaws.com/tripdata/201801_citibikenyc_tripdata.csv.zip\",\n",
    "    \"https://s3.amazonaws.com/tripdata/201802_citibikenyc_tripdata.csv.zip\",\n",
    "    \"https://s3.amazonaws.com/tripdata/201803_citibikenyc_tripdata.csv.zip\"\n",
    "]\n",
    "\n",
    "jerseycity_citibike_urls = [\n",
    "    \"https://s3.amazonaws.com/tripdata/JC-201601-citibike-tripdata.csv.zip\",\n",
    "    \"https://s3.amazonaws.com/tripdata/JC-201602-citibike-tripdata.csv.zip\",\n",
    "    \"https://s3.amazonaws.com/tripdata/JC-201603-citibike-tripdata.csv.zip\",\n",
    "    \"https://s3.amazonaws.com/tripdata/JC-201604-citibike-tripdata.csv.zip\",\n",
    "    \"https://s3.amazonaws.com/tripdata/JC-201605-citibike-tripdata.csv.zip\",\n",
    "    \"https://s3.amazonaws.com/tripdata/JC-201606-citibike-tripdata.csv.zip\",\n",
    "    \"https://s3.amazonaws.com/tripdata/JC-201607-citibike-tripdata.csv.zip\",\n",
    "    \"https://s3.amazonaws.com/tripdata/JC-201608-citibike-tripdata.csv.zip\",\n",
    "    \"https://s3.amazonaws.com/tripdata/JC-201609-citibike-tripdata.csv.zip\",\n",
    "    \"https://s3.amazonaws.com/tripdata/JC-201610-citibike-tripdata.csv.zip\",\n",
    "    \"https://s3.amazonaws.com/tripdata/JC-201611-citibike-tripdata.csv.zip\",\n",
    "    \"https://s3.amazonaws.com/tripdata/JC-201612-citibike-tripdata.csv.zip\",\n",
    "    \"https://s3.amazonaws.com/tripdata/JC-201701-citibike-tripdata.csv.zip\",\n",
    "    \"https://s3.amazonaws.com/tripdata/JC-201702-citibike-tripdata.csv.zip\",\n",
    "    \"https://s3.amazonaws.com/tripdata/JC-201703-citibike-tripdata.csv.zip\",\n",
    "    \"https://s3.amazonaws.com/tripdata/JC-201704-citibike-tripdata.csv.zip\",\n",
    "    \"https://s3.amazonaws.com/tripdata/JC-201705-citibike-tripdata.csv.zip\",\n",
    "    \"https://s3.amazonaws.com/tripdata/JC-201706-citibike-tripdata.csv.zip\",\n",
    "    \"https://s3.amazonaws.com/tripdata/JC-201707-citibike-tripdata.csv.zip\",\n",
    "    \"https://s3.amazonaws.com/tripdata/201708-citibike-tripdata.csv.zip\",\n",
    "    \"https://s3.amazonaws.com/tripdata/JC-201709-citibike-tripdata.csv.zip\",\n",
    "    \"https://s3.amazonaws.com/tripdata/JC-201710-citibike-tripdata.csv.zip\",\n",
    "    \"https://s3.amazonaws.com/tripdata/JC-201711-citibike-tripdata.csv.zip\",\n",
    "    \"https://s3.amazonaws.com/tripdata/JC-201712-citibike-tripdata.csv.zip\",\n",
    "    \"https://s3.amazonaws.com/tripdata/201801_citibikejc_tripdata.csv.zip\",\n",
    "    \"https://s3.amazonaws.com/tripdata/201802_citibikejc_tripdata.csv.zip\",\n",
    "    \"https://s3.amazonaws.com/tripdata/201803_citibikejc_tripdata.csv.zip\",\n",
    "]"
   ]
  },
  {
   "cell_type": "code",
   "execution_count": 18,
   "metadata": {},
   "outputs": [],
   "source": [
    "def download_citibike_trips(url, city, outfildir):\n",
    "    \n",
    "    # Read zipfile into dataframe\n",
    "    df = pd.read_csv(url, compression=\"infer\")\n",
    "\n",
    "    # Delete a junk column that exists in some but not all months\n",
    "    if 'name_localizedValue0' in df.columns:\n",
    "        del df['name_localizedValue0']\n",
    "\n",
    "    # Rename columns\n",
    "    df.columns = ['tripduration', 'starttime', 'stoptime', 'start_station_id',\n",
    "          'start_station_name', 'start_station_latitude', 'start_station_longitude', \n",
    "          'end_station_id', 'end_station_name','end_station_latitude', 'end_station_longitude',\n",
    "          'bike_id', 'user_type', 'user_birth_year', 'user_gender']\n",
    "\n",
    "    # Drop any rows with zero for coordinates\n",
    "    df = df[df['start_station_latitude'] != 0.0]\n",
    "    df = df[df['start_station_longitude'] != 0.0]\n",
    "    df = df[df['end_station_latitude'] != 0.0]\n",
    "    df = df[df['end_station_longitude'] != 0.0]\n",
    "    \n",
    "    # Keep track of city: NYC or JC (Jersey City)\n",
    "    df['city'] = city\n",
    "    \n",
    "    # Create a linestring geometry object\n",
    "    df['linestring'] = \"LINESTRING(\" + df['start_station_longitude'].astype(str) + \" \" + \\\n",
    "                    df['start_station_latitude'].astype(str) + \", \" + \\\n",
    "                    df['end_station_longitude'].astype(str) + \" \" + \\\n",
    "                    df['end_station_latitude'].astype(str) + \")\"\n",
    "                \n",
    "    # Create a logical filename, i.e. 201701_NYC.csv, 201702_NYC.csv, etc.\n",
    "    outfilename = i.replace(\"https://s3.amazonaws.com/tripdata/\",\"\").replace(\".csv.zip\",\"\").replace(\"JC-\",\"\")[:6]\n",
    "    outfilename += \"_\" + city + \".csv\"\n",
    "    \n",
    "    # Define output filepath\n",
    "    outfilepath = join(outfiledir, outfilename)\n",
    "    \n",
    "    # Save dataframe to csv\n",
    "    df.to_csv(outfilepath)"
   ]
  },
  {
   "cell_type": "code",
   "execution_count": 19,
   "metadata": {},
   "outputs": [],
   "source": [
    "root = \"..\"\n",
    "\n",
    "outfiledir = join(root,\"data\", \"citibike_trips\")\n",
    "\n",
    "# Make data directory\n",
    "if not os.path.exists(outfiledir):\n",
    "    os.mkdir(outfiledir)"
   ]
  },
  {
   "cell_type": "code",
   "execution_count": 20,
   "metadata": {},
   "outputs": [
    {
     "name": "stderr",
     "output_type": "stream",
     "text": [
      "\r",
      "  0%|          | 0/27 [00:00<?, ?it/s]"
     ]
    },
    {
     "name": "stdout",
     "output_type": "stream",
     "text": [
      "Downloading NYC Citibike trips\n"
     ]
    },
    {
     "name": "stderr",
     "output_type": "stream",
     "text": [
      "100%|██████████| 27/27 [15:41<00:00, 34.88s/it]"
     ]
    },
    {
     "name": "stdout",
     "output_type": "stream",
     "text": [
      "CPU times: user 13min 6s, sys: 1min 3s, total: 14min 9s\n",
      "Wall time: 15min 41s\n"
     ]
    },
    {
     "name": "stderr",
     "output_type": "stream",
     "text": [
      "\n"
     ]
    }
   ],
   "source": [
    "%%time\n",
    "\n",
    "print(\"Downloading NYC Citibike trips\")\n",
    "\n",
    "# Download nyc citibike trips\n",
    "for i in tqdm(nyc_citibike_urls):\n",
    "    download_citibike_trips(i, \"NYC\", outfiledir)"
   ]
  },
  {
   "cell_type": "code",
   "execution_count": 27,
   "metadata": {},
   "outputs": [
    {
     "name": "stderr",
     "output_type": "stream",
     "text": [
      "\n",
      "  0%|          | 0/8 [00:00<?, ?it/s]\u001b[A"
     ]
    },
    {
     "name": "stdout",
     "output_type": "stream",
     "text": [
      "Downloading Jersey City Citibike trips\n"
     ]
    },
    {
     "name": "stderr",
     "output_type": "stream",
     "text": [
      "\n",
      "Exception in thread Thread-6:\n",
      "Traceback (most recent call last):\n",
      "  File \"/anaconda/envs/py36/lib/python3.6/threading.py\", line 916, in _bootstrap_inner\n",
      "    self.run()\n",
      "  File \"/anaconda/envs/py36/lib/python3.6/site-packages/tqdm/_monitor.py\", line 63, in run\n",
      "    for instance in self.tqdm_cls._instances:\n",
      "  File \"/anaconda/envs/py36/lib/python3.6/_weakrefset.py\", line 60, in __iter__\n",
      "    for itemref in self.data:\n",
      "RuntimeError: Set changed size during iteration\n",
      "\n",
      "100%|██████████| 8/8 [00:54<00:00,  6.86s/it]"
     ]
    },
    {
     "name": "stdout",
     "output_type": "stream",
     "text": [
      "CPU times: user 43.7 s, sys: 3.06 s, total: 46.8 s\n",
      "Wall time: 54.9 s\n"
     ]
    },
    {
     "name": "stderr",
     "output_type": "stream",
     "text": [
      "\n"
     ]
    }
   ],
   "source": [
    "%%time\n",
    "\n",
    "print(\"Downloading Jersey City Citibike trips\")\n",
    "    \n",
    "# Download jersey city citibike trips\n",
    "for i in tqdm(jerseycity_citibike_urls):\n",
    "    download_citibike_trips(i, \"JC\",outfiledir)"
   ]
  },
  {
   "cell_type": "code",
   "execution_count": null,
   "metadata": {},
   "outputs": [],
   "source": []
  }
 ],
 "metadata": {
  "kernelspec": {
   "display_name": "Python 3",
   "language": "python",
   "name": "python3"
  },
  "language_info": {
   "codemirror_mode": {
    "name": "ipython",
    "version": 3
   },
   "file_extension": ".py",
   "mimetype": "text/x-python",
   "name": "python",
   "nbconvert_exporter": "python",
   "pygments_lexer": "ipython3",
   "version": "3.6.3"
  }
 },
 "nbformat": 4,
 "nbformat_minor": 2
}
