{
 "cells": [
  {
   "cell_type": "code",
   "execution_count": 187,
   "metadata": {},
   "outputs": [],
   "source": [
    "import geopandas as gpd\n",
    "import pandas as pd\n",
    "import numpy as np\n",
    "import osmnx as ox\n",
    "import matplotlib.pyplot as plt\n",
    "from functools import partial\n",
    "import pyproj\n",
    "from shapely.ops import transform\n",
    "from shapely.geometry import Point\n",
    "from tqdm import tqdm\n",
    "%matplotlib inline"
   ]
  },
  {
   "cell_type": "markdown",
   "metadata": {},
   "source": [
    "# Read in borough park polygon"
   ]
  },
  {
   "cell_type": "code",
   "execution_count": 120,
   "metadata": {},
   "outputs": [],
   "source": [
    "borough_park = gpd.read_file(\"../data/neighborhood_tabulation_areas/top_predictions/borough_park.shp\")\n",
    "borough_park.crs = {'init' :'epsg:4326'}\n",
    "polygon = borough_park.loc[0]['geometry']"
   ]
  },
  {
   "cell_type": "code",
   "execution_count": 121,
   "metadata": {},
   "outputs": [
    {
     "data": {
      "image/svg+xml": [
       "<svg xmlns=\"http://www.w3.org/2000/svg\" xmlns:xlink=\"http://www.w3.org/1999/xlink\" width=\"100.0\" height=\"100.0\" viewBox=\"-74.00873449051787 40.61126035103896 0.03720934497303574 0.03468001673619625\" preserveAspectRatio=\"xMinYMin meet\"><g transform=\"matrix(1,0,0,-1,0,81.25720071881412)\"><path fill-rule=\"evenodd\" fill=\"#66cc99\" stroke=\"#555555\" stroke-width=\"0.0007441868994607148\" opacity=\"0.6\" d=\"M -73.97604935657381,40.631275905646774 L -73.97716511994669,40.630746654129354 L -73.97699848928194,40.62987149612538 L -73.9768496430902,40.6290885814784 L -73.97669604371914,40.62835456420878 L -73.97657775689153,40.62757318681897 L -73.97651462100181,40.627294490493874 L -73.97644970441578,40.62700825547301 L -73.97623453682755,40.62597635073023 L -73.97726150032737,40.6258527728136 L -73.97719665645003,40.62510197855896 L -73.97710959292857,40.62494825969153 L -73.97694382374165,40.6240527500147 L -73.97683465206511,40.623481041945674 L -73.97675209645574,40.62301331232573 L -73.97656583927008,40.6219949031937 L -73.97695070814679,40.62163000717454 L -73.97705352864567,40.62153252180762 L -73.97539380523679,40.620769987237345 L -73.97682433557303,40.618675800159174 L -73.97752301889588,40.617676540767356 L -73.97785009338085,40.61728760679461 L -73.97562954146068,40.61594539066695 L -73.97537335532121,40.6157547223824 L -73.97544276701358,40.61611409035502 L -73.97548096980243,40.616311925144196 L -73.97444328442452,40.6164216434621 L -73.97335879350747,40.61654171529661 L -73.97290326943272,40.61415296838453 L -73.97399319461375,40.61402989424252 L -73.97517176991694,40.614724185881045 L -73.97497264664409,40.6136681101718 L -73.97489295756654,40.61318636841403 L -73.97477657974535,40.61263847492685 L -73.97520829413773,40.6128852582153 L -73.9774081645899,40.61421811299026 L -73.97963821772845,40.61556454722806 L -73.98003930358351,40.61580692966757 L -73.9808791278371,40.61631443478825 L -73.9818681824313,40.61691212660383 L -73.98406791766591,40.618240739302685 L -73.98627524709667,40.619566616589694 L -73.98569357824182,40.620131514447586 L -73.9878509553418,40.62143503244062 L -73.99009356051288,40.62278895334304 L -73.99254973616581,40.62427426877922 L -73.99398197149371,40.625141399050555 L -73.99432497413301,40.625342908797435 L -73.99489280561377,40.6254617941917 L -73.99473485679263,40.6256147406034 L -73.99464972974174,40.625697179221554 L -73.99507814869848,40.62580673783712 L -73.99678847531307,40.626826051412735 L -73.99687778353756,40.62653078256237 L -73.9970163364801,40.62606161545062 L -73.9972406703973,40.625288687028046 L -73.99811614328407,40.6258157066096 L -74.00031369476771,40.62714458259373 L -74.00251454806298,40.62847420956256 L -74.00222793396246,40.62875116964376 L -74.00193011441127,40.629032767891346 L -74.00306154030784,40.629715175404556 L -74.00368597245085,40.630091781027815 L -74.00413727968571,40.63036396583656 L -74.00633870652992,40.63169362668359 L -74.00702302486354,40.63210999547636 L -74.00680677851517,40.63225039123531 L -74.00661914959808,40.63237545858945 L -74.00630615538647,40.63258408846229 L -74.00556490392158,40.63308317641422 L -74.00735636662998,40.63416362723899 L -74.00675122718054,40.63474478652965 L -74.00641784683815,40.63506485045551 L -74.00616926871128,40.63530350191604 L -74.00558613003881,40.6358662290333 L -74.00500346527615,40.636425235177555 L -74.00442048380327,40.636984986361725 L -74.00411104085094,40.63728296100243 L -74.00383793090822,40.637545931867415 L -74.00325273129658,40.638104262022914 L -74.00267214342664,40.63866701046998 L -74.0023694348025,40.63895767781394 L -74.0020907543513,40.63922525430822 L -74.00150771254626,40.63978496207331 L -74.00092541773435,40.64034590202876 L -74.00066078180645,40.64059930920131 L -74.00034122066634,40.64090531617318 L -73.99975690844894,40.64146715044592 L -73.9991756471891,40.642025442029095 L -73.99697357409411,40.64069410459458 L -73.99551033762245,40.63980966713006 L -73.99479539539372,40.640288487384396 L -73.99433124126969,40.640600287952914 L -73.99407692009133,40.64077040176035 L -73.99336253671026,40.64124779897801 L -73.9926445605762,40.641728290946446 L -73.99192812375553,40.64220490408611 L -73.99121277380051,40.64268589050533 L -73.99049634082614,40.6431644411884 L -73.98977890274075,40.643644886730954 L -73.9890587239361,40.64411924103919 L -73.98834986671028,40.644562243887265 L -73.98749940592022,40.64404551035484 L -73.98673080569073,40.64357399370721 L -73.985896444915,40.64306759533013 L -73.98509519639008,40.64257305584113 L -73.984587194825,40.6422620045726 L -73.98430293143333,40.64208456309331 L -73.98331628452112,40.64147868283309 L -73.98299419241442,40.6413249968491 L -73.98244454219795,40.64153862556193 L -73.98204321765256,40.6417075820055 L -73.98123240501364,40.64204491389033 L -73.98042057821883,40.64238522690572 L -73.98007428494853,40.64053969984795 L -73.98000693002487,40.6402088377546 L -73.97990983138484,40.639686357911735 L -73.97987360298706,40.63951820595044 L -73.9796770495655,40.63846479981802 L -73.97955441162159,40.63781925969067 L -73.97947592089827,40.63743136398443 L -73.97938644718404,40.63693216348757 L -73.97928591736762,40.636414194191275 L -73.9791118873775,40.63544038643937 L -73.97802158944135,40.63555270290522 L -73.9768886114649,40.635674862028225 L -73.97663656021153,40.63435382127076 L -73.9765506414862,40.633903509144105 L -73.97643342179832,40.63328912259066 L -73.97604935657381,40.631275905646774 z\" /></g></svg>"
      ],
      "text/plain": [
       "<shapely.geometry.polygon.Polygon at 0x1264fbeb8>"
      ]
     },
     "execution_count": 121,
     "metadata": {},
     "output_type": "execute_result"
    }
   ],
   "source": [
    "polygon"
   ]
  },
  {
   "cell_type": "markdown",
   "metadata": {},
   "source": [
    "# Read in borough park intersections"
   ]
  },
  {
   "cell_type": "code",
   "execution_count": 7,
   "metadata": {},
   "outputs": [],
   "source": [
    "intersections = gpd.read_file(\"../data/neighborhood_tabulation_areas/top_predictions/borough_park_intersections/borough_park_intersections.shp\")"
   ]
  },
  {
   "cell_type": "code",
   "execution_count": 8,
   "metadata": {},
   "outputs": [],
   "source": [
    "intersections.crs = {'init' :'epsg:3857'}"
   ]
  },
  {
   "cell_type": "code",
   "execution_count": 9,
   "metadata": {},
   "outputs": [
    {
     "data": {
      "text/html": [
       "<div>\n",
       "<style scoped>\n",
       "    .dataframe tbody tr th:only-of-type {\n",
       "        vertical-align: middle;\n",
       "    }\n",
       "\n",
       "    .dataframe tbody tr th {\n",
       "        vertical-align: top;\n",
       "    }\n",
       "\n",
       "    .dataframe thead th {\n",
       "        text-align: right;\n",
       "    }\n",
       "</style>\n",
       "<table border=\"1\" class=\"dataframe\">\n",
       "  <thead>\n",
       "    <tr style=\"text-align: right;\">\n",
       "      <th></th>\n",
       "      <th>id</th>\n",
       "      <th>geometry</th>\n",
       "    </tr>\n",
       "  </thead>\n",
       "  <tbody>\n",
       "    <tr>\n",
       "      <th>0</th>\n",
       "      <td>0</td>\n",
       "      <td>POINT (-8234747.733642889 4955578.345774663)</td>\n",
       "    </tr>\n",
       "    <tr>\n",
       "      <th>1</th>\n",
       "      <td>1</td>\n",
       "      <td>POINT (-8234878.478384824 4955678.563065642)</td>\n",
       "    </tr>\n",
       "    <tr>\n",
       "      <th>2</th>\n",
       "      <td>2</td>\n",
       "      <td>POINT (-8235062.712142089 4955686.33530107)</td>\n",
       "    </tr>\n",
       "    <tr>\n",
       "      <th>3</th>\n",
       "      <td>3</td>\n",
       "      <td>POINT (-8234995.47516965 4955771.68365043)</td>\n",
       "    </tr>\n",
       "    <tr>\n",
       "      <th>4</th>\n",
       "      <td>4</td>\n",
       "      <td>POINT (-8234897.614205291 4955818.654889079)</td>\n",
       "    </tr>\n",
       "  </tbody>\n",
       "</table>\n",
       "</div>"
      ],
      "text/plain": [
       "   id                                      geometry\n",
       "0   0  POINT (-8234747.733642889 4955578.345774663)\n",
       "1   1  POINT (-8234878.478384824 4955678.563065642)\n",
       "2   2   POINT (-8235062.712142089 4955686.33530107)\n",
       "3   3    POINT (-8234995.47516965 4955771.68365043)\n",
       "4   4  POINT (-8234897.614205291 4955818.654889079)"
      ]
     },
     "execution_count": 9,
     "metadata": {},
     "output_type": "execute_result"
    }
   ],
   "source": [
    "intersections.head()"
   ]
  },
  {
   "cell_type": "code",
   "execution_count": 10,
   "metadata": {},
   "outputs": [
    {
     "data": {
      "image/png": "[encoded data removed]",
      "text/plain": [
       "<Figure size 1008x1008 with 1 Axes>"
      ]
     },
     "metadata": {},
     "output_type": "display_data"
    }
   ],
   "source": [
    "f, ax = plt.subplots(figsize=(14,14))\n",
    "ax.set_axis_off()\n",
    "intersections.plot(ax=ax);"
   ]
  },
  {
   "cell_type": "code",
   "execution_count": 11,
   "metadata": {},
   "outputs": [
    {
     "data": {
      "text/plain": [
       "{'init': 'epsg:3857'}"
      ]
     },
     "execution_count": 11,
     "metadata": {},
     "output_type": "execute_result"
    }
   ],
   "source": [
    "intersections.crs"
   ]
  },
  {
   "cell_type": "markdown",
   "metadata": {},
   "source": [
    "# Read in jobs"
   ]
  },
  {
   "cell_type": "code",
   "execution_count": 12,
   "metadata": {},
   "outputs": [],
   "source": [
    "df = pd.read_csv(\"../data/origin_destination_employment/LODES_NYC.csv\")"
   ]
  },
  {
   "cell_type": "code",
   "execution_count": 13,
   "metadata": {},
   "outputs": [],
   "source": [
    "jobs = df[['dest_lat', 'dest_lon']]\n",
    "jobs.columns = ['latitude', 'longitude']\n",
    "geometry = [Point(xy) for xy in zip(jobs.longitude, jobs.latitude)]\n",
    "crs = {'init': 'epsg:4326'}\n",
    "jobs = gpd.GeoDataFrame(jobs, crs=crs, geometry=geometry)"
   ]
  },
  {
   "cell_type": "code",
   "execution_count": 14,
   "metadata": {},
   "outputs": [
    {
     "data": {
      "text/html": [
       "<div>\n",
       "<style scoped>\n",
       "    .dataframe tbody tr th:only-of-type {\n",
       "        vertical-align: middle;\n",
       "    }\n",
       "\n",
       "    .dataframe tbody tr th {\n",
       "        vertical-align: top;\n",
       "    }\n",
       "\n",
       "    .dataframe thead th {\n",
       "        text-align: right;\n",
       "    }\n",
       "</style>\n",
       "<table border=\"1\" class=\"dataframe\">\n",
       "  <thead>\n",
       "    <tr style=\"text-align: right;\">\n",
       "      <th></th>\n",
       "      <th>latitude</th>\n",
       "      <th>longitude</th>\n",
       "      <th>geometry</th>\n",
       "    </tr>\n",
       "  </thead>\n",
       "  <tbody>\n",
       "    <tr>\n",
       "      <th>0</th>\n",
       "      <td>40.792936</td>\n",
       "      <td>-73.881206</td>\n",
       "      <td>POINT (-73.88120649999999 40.7929362)</td>\n",
       "    </tr>\n",
       "    <tr>\n",
       "      <th>1</th>\n",
       "      <td>40.792936</td>\n",
       "      <td>-73.881206</td>\n",
       "      <td>POINT (-73.88120649999999 40.7929362)</td>\n",
       "    </tr>\n",
       "    <tr>\n",
       "      <th>2</th>\n",
       "      <td>40.792936</td>\n",
       "      <td>-73.881206</td>\n",
       "      <td>POINT (-73.88120649999999 40.7929362)</td>\n",
       "    </tr>\n",
       "    <tr>\n",
       "      <th>3</th>\n",
       "      <td>40.792936</td>\n",
       "      <td>-73.881206</td>\n",
       "      <td>POINT (-73.88120649999999 40.7929362)</td>\n",
       "    </tr>\n",
       "    <tr>\n",
       "      <th>4</th>\n",
       "      <td>40.792936</td>\n",
       "      <td>-73.881206</td>\n",
       "      <td>POINT (-73.88120649999999 40.7929362)</td>\n",
       "    </tr>\n",
       "  </tbody>\n",
       "</table>\n",
       "</div>"
      ],
      "text/plain": [
       "    latitude  longitude                               geometry\n",
       "0  40.792936 -73.881206  POINT (-73.88120649999999 40.7929362)\n",
       "1  40.792936 -73.881206  POINT (-73.88120649999999 40.7929362)\n",
       "2  40.792936 -73.881206  POINT (-73.88120649999999 40.7929362)\n",
       "3  40.792936 -73.881206  POINT (-73.88120649999999 40.7929362)\n",
       "4  40.792936 -73.881206  POINT (-73.88120649999999 40.7929362)"
      ]
     },
     "execution_count": 14,
     "metadata": {},
     "output_type": "execute_result"
    }
   ],
   "source": [
    "jobs.head()"
   ]
  },
  {
   "cell_type": "code",
   "execution_count": 15,
   "metadata": {},
   "outputs": [
    {
     "name": "stdout",
     "output_type": "stream",
     "text": [
      "CPU times: user 1min 24s, sys: 1.07 s, total: 1min 26s\n",
      "Wall time: 1min 26s\n"
     ]
    }
   ],
   "source": [
    "%%time\n",
    "\n",
    "# clip jobs to include only those within borough park\n",
    "borough_park_jobs = gpd.sjoin(jobs, borough_park, how=\"inner\", op='intersects')"
   ]
  },
  {
   "cell_type": "code",
   "execution_count": 16,
   "metadata": {},
   "outputs": [
    {
     "data": {
      "text/plain": [
       "(38235, 10)"
      ]
     },
     "execution_count": 16,
     "metadata": {},
     "output_type": "execute_result"
    }
   ],
   "source": [
    "borough_park_jobs.shape"
   ]
  },
  {
   "cell_type": "code",
   "execution_count": 17,
   "metadata": {},
   "outputs": [
    {
     "data": {
      "text/html": [
       "<div>\n",
       "<style scoped>\n",
       "    .dataframe tbody tr th:only-of-type {\n",
       "        vertical-align: middle;\n",
       "    }\n",
       "\n",
       "    .dataframe tbody tr th {\n",
       "        vertical-align: top;\n",
       "    }\n",
       "\n",
       "    .dataframe thead th {\n",
       "        text-align: right;\n",
       "    }\n",
       "</style>\n",
       "<table border=\"1\" class=\"dataframe\">\n",
       "  <thead>\n",
       "    <tr style=\"text-align: right;\">\n",
       "      <th></th>\n",
       "      <th>latitude</th>\n",
       "      <th>longitude</th>\n",
       "      <th>geometry</th>\n",
       "      <th>index_right</th>\n",
       "      <th>NTACode</th>\n",
       "      <th>NTAName</th>\n",
       "      <th>Borough</th>\n",
       "      <th>Year</th>\n",
       "      <th>Population</th>\n",
       "      <th>numStation</th>\n",
       "    </tr>\n",
       "  </thead>\n",
       "  <tbody>\n",
       "    <tr>\n",
       "      <th>323804</th>\n",
       "      <td>40.641081</td>\n",
       "      <td>-73.998366</td>\n",
       "      <td>POINT (-73.99836590000001 40.6410808)</td>\n",
       "      <td>0</td>\n",
       "      <td>BK88</td>\n",
       "      <td>Borough Park</td>\n",
       "      <td>Brooklyn</td>\n",
       "      <td>2010</td>\n",
       "      <td>106357</td>\n",
       "      <td>0</td>\n",
       "    </tr>\n",
       "    <tr>\n",
       "      <th>323805</th>\n",
       "      <td>40.641081</td>\n",
       "      <td>-73.998366</td>\n",
       "      <td>POINT (-73.99836590000001 40.6410808)</td>\n",
       "      <td>0</td>\n",
       "      <td>BK88</td>\n",
       "      <td>Borough Park</td>\n",
       "      <td>Brooklyn</td>\n",
       "      <td>2010</td>\n",
       "      <td>106357</td>\n",
       "      <td>0</td>\n",
       "    </tr>\n",
       "    <tr>\n",
       "      <th>323806</th>\n",
       "      <td>40.641081</td>\n",
       "      <td>-73.998366</td>\n",
       "      <td>POINT (-73.99836590000001 40.6410808)</td>\n",
       "      <td>0</td>\n",
       "      <td>BK88</td>\n",
       "      <td>Borough Park</td>\n",
       "      <td>Brooklyn</td>\n",
       "      <td>2010</td>\n",
       "      <td>106357</td>\n",
       "      <td>0</td>\n",
       "    </tr>\n",
       "    <tr>\n",
       "      <th>323807</th>\n",
       "      <td>40.641081</td>\n",
       "      <td>-73.998366</td>\n",
       "      <td>POINT (-73.99836590000001 40.6410808)</td>\n",
       "      <td>0</td>\n",
       "      <td>BK88</td>\n",
       "      <td>Borough Park</td>\n",
       "      <td>Brooklyn</td>\n",
       "      <td>2010</td>\n",
       "      <td>106357</td>\n",
       "      <td>0</td>\n",
       "    </tr>\n",
       "    <tr>\n",
       "      <th>323808</th>\n",
       "      <td>40.641081</td>\n",
       "      <td>-73.998366</td>\n",
       "      <td>POINT (-73.99836590000001 40.6410808)</td>\n",
       "      <td>0</td>\n",
       "      <td>BK88</td>\n",
       "      <td>Borough Park</td>\n",
       "      <td>Brooklyn</td>\n",
       "      <td>2010</td>\n",
       "      <td>106357</td>\n",
       "      <td>0</td>\n",
       "    </tr>\n",
       "  </tbody>\n",
       "</table>\n",
       "</div>"
      ],
      "text/plain": [
       "         latitude  longitude                               geometry  \\\n",
       "323804  40.641081 -73.998366  POINT (-73.99836590000001 40.6410808)   \n",
       "323805  40.641081 -73.998366  POINT (-73.99836590000001 40.6410808)   \n",
       "323806  40.641081 -73.998366  POINT (-73.99836590000001 40.6410808)   \n",
       "323807  40.641081 -73.998366  POINT (-73.99836590000001 40.6410808)   \n",
       "323808  40.641081 -73.998366  POINT (-73.99836590000001 40.6410808)   \n",
       "\n",
       "        index_right NTACode       NTAName   Borough  Year  Population  \\\n",
       "323804            0    BK88  Borough Park  Brooklyn  2010      106357   \n",
       "323805            0    BK88  Borough Park  Brooklyn  2010      106357   \n",
       "323806            0    BK88  Borough Park  Brooklyn  2010      106357   \n",
       "323807            0    BK88  Borough Park  Brooklyn  2010      106357   \n",
       "323808            0    BK88  Borough Park  Brooklyn  2010      106357   \n",
       "\n",
       "        numStation  \n",
       "323804           0  \n",
       "323805           0  \n",
       "323806           0  \n",
       "323807           0  \n",
       "323808           0  "
      ]
     },
     "execution_count": 17,
     "metadata": {},
     "output_type": "execute_result"
    }
   ],
   "source": [
    "borough_park_jobs.head()"
   ]
  },
  {
   "cell_type": "code",
   "execution_count": 18,
   "metadata": {},
   "outputs": [
    {
     "data": {
      "text/plain": [
       "{'init': 'epsg:4326'}"
      ]
     },
     "execution_count": 18,
     "metadata": {},
     "output_type": "execute_result"
    }
   ],
   "source": [
    "borough_park_jobs.crs"
   ]
  },
  {
   "cell_type": "code",
   "execution_count": 22,
   "metadata": {},
   "outputs": [
    {
     "data": {
      "text/plain": [
       "<matplotlib.axes._subplots.AxesSubplot at 0x12359f320>"
      ]
     },
     "execution_count": 22,
     "metadata": {},
     "output_type": "execute_result"
    },
    {
     "data": {
      "image/png": "[encoded data removed]",
      "text/plain": [
       "<Figure size 432x288 with 1 Axes>"
      ]
     },
     "metadata": {},
     "output_type": "display_data"
    }
   ],
   "source": [
    "borough_park_jobs.plot()"
   ]
  },
  {
   "cell_type": "code",
   "execution_count": 19,
   "metadata": {},
   "outputs": [
    {
     "name": "stdout",
     "output_type": "stream",
     "text": [
      "CPU times: user 1.07 s, sys: 8.84 ms, total: 1.07 s\n",
      "Wall time: 1.07 s\n"
     ]
    }
   ],
   "source": [
    "%%time\n",
    "# reproject to 3857 so we can use meters to set radius later\n",
    "borough_park_jobs_3857 = borough_park_jobs.to_crs({'init': 'epsg:3857'})"
   ]
  },
  {
   "cell_type": "code",
   "execution_count": 20,
   "metadata": {},
   "outputs": [
    {
     "data": {
      "text/html": [
       "<div>\n",
       "<style scoped>\n",
       "    .dataframe tbody tr th:only-of-type {\n",
       "        vertical-align: middle;\n",
       "    }\n",
       "\n",
       "    .dataframe tbody tr th {\n",
       "        vertical-align: top;\n",
       "    }\n",
       "\n",
       "    .dataframe thead th {\n",
       "        text-align: right;\n",
       "    }\n",
       "</style>\n",
       "<table border=\"1\" class=\"dataframe\">\n",
       "  <thead>\n",
       "    <tr style=\"text-align: right;\">\n",
       "      <th></th>\n",
       "      <th>latitude</th>\n",
       "      <th>longitude</th>\n",
       "      <th>geometry</th>\n",
       "      <th>index_right</th>\n",
       "      <th>NTACode</th>\n",
       "      <th>NTAName</th>\n",
       "      <th>Borough</th>\n",
       "      <th>Year</th>\n",
       "      <th>Population</th>\n",
       "      <th>numStation</th>\n",
       "    </tr>\n",
       "  </thead>\n",
       "  <tbody>\n",
       "    <tr>\n",
       "      <th>323804</th>\n",
       "      <td>40.641081</td>\n",
       "      <td>-73.998366</td>\n",
       "      <td>POINT (-8237460.411522339 4959544.442247306)</td>\n",
       "      <td>0</td>\n",
       "      <td>BK88</td>\n",
       "      <td>Borough Park</td>\n",
       "      <td>Brooklyn</td>\n",
       "      <td>2010</td>\n",
       "      <td>106357</td>\n",
       "      <td>0</td>\n",
       "    </tr>\n",
       "    <tr>\n",
       "      <th>323805</th>\n",
       "      <td>40.641081</td>\n",
       "      <td>-73.998366</td>\n",
       "      <td>POINT (-8237460.411522339 4959544.442247306)</td>\n",
       "      <td>0</td>\n",
       "      <td>BK88</td>\n",
       "      <td>Borough Park</td>\n",
       "      <td>Brooklyn</td>\n",
       "      <td>2010</td>\n",
       "      <td>106357</td>\n",
       "      <td>0</td>\n",
       "    </tr>\n",
       "    <tr>\n",
       "      <th>323806</th>\n",
       "      <td>40.641081</td>\n",
       "      <td>-73.998366</td>\n",
       "      <td>POINT (-8237460.411522339 4959544.442247306)</td>\n",
       "      <td>0</td>\n",
       "      <td>BK88</td>\n",
       "      <td>Borough Park</td>\n",
       "      <td>Brooklyn</td>\n",
       "      <td>2010</td>\n",
       "      <td>106357</td>\n",
       "      <td>0</td>\n",
       "    </tr>\n",
       "    <tr>\n",
       "      <th>323807</th>\n",
       "      <td>40.641081</td>\n",
       "      <td>-73.998366</td>\n",
       "      <td>POINT (-8237460.411522339 4959544.442247306)</td>\n",
       "      <td>0</td>\n",
       "      <td>BK88</td>\n",
       "      <td>Borough Park</td>\n",
       "      <td>Brooklyn</td>\n",
       "      <td>2010</td>\n",
       "      <td>106357</td>\n",
       "      <td>0</td>\n",
       "    </tr>\n",
       "    <tr>\n",
       "      <th>323808</th>\n",
       "      <td>40.641081</td>\n",
       "      <td>-73.998366</td>\n",
       "      <td>POINT (-8237460.411522339 4959544.442247306)</td>\n",
       "      <td>0</td>\n",
       "      <td>BK88</td>\n",
       "      <td>Borough Park</td>\n",
       "      <td>Brooklyn</td>\n",
       "      <td>2010</td>\n",
       "      <td>106357</td>\n",
       "      <td>0</td>\n",
       "    </tr>\n",
       "  </tbody>\n",
       "</table>\n",
       "</div>"
      ],
      "text/plain": [
       "         latitude  longitude                                      geometry  \\\n",
       "323804  40.641081 -73.998366  POINT (-8237460.411522339 4959544.442247306)   \n",
       "323805  40.641081 -73.998366  POINT (-8237460.411522339 4959544.442247306)   \n",
       "323806  40.641081 -73.998366  POINT (-8237460.411522339 4959544.442247306)   \n",
       "323807  40.641081 -73.998366  POINT (-8237460.411522339 4959544.442247306)   \n",
       "323808  40.641081 -73.998366  POINT (-8237460.411522339 4959544.442247306)   \n",
       "\n",
       "        index_right NTACode       NTAName   Borough  Year  Population  \\\n",
       "323804            0    BK88  Borough Park  Brooklyn  2010      106357   \n",
       "323805            0    BK88  Borough Park  Brooklyn  2010      106357   \n",
       "323806            0    BK88  Borough Park  Brooklyn  2010      106357   \n",
       "323807            0    BK88  Borough Park  Brooklyn  2010      106357   \n",
       "323808            0    BK88  Borough Park  Brooklyn  2010      106357   \n",
       "\n",
       "        numStation  \n",
       "323804           0  \n",
       "323805           0  \n",
       "323806           0  \n",
       "323807           0  \n",
       "323808           0  "
      ]
     },
     "execution_count": 20,
     "metadata": {},
     "output_type": "execute_result"
    }
   ],
   "source": [
    "borough_park_jobs_3857.head()"
   ]
  },
  {
   "cell_type": "code",
   "execution_count": 25,
   "metadata": {},
   "outputs": [
    {
     "data": {
      "image/png": "[encoded data removed]",
      "text/plain": [
       "<Figure size 432x288 with 1 Axes>"
      ]
     },
     "metadata": {},
     "output_type": "display_data"
    }
   ],
   "source": [
    "borough_park_jobs_3857.plot();"
   ]
  },
  {
   "cell_type": "code",
   "execution_count": 26,
   "metadata": {},
   "outputs": [
    {
     "data": {
      "text/plain": [
       "38235"
      ]
     },
     "execution_count": 26,
     "metadata": {},
     "output_type": "execute_result"
    }
   ],
   "source": [
    "len(borough_park_jobs)"
   ]
  },
  {
   "cell_type": "code",
   "execution_count": 29,
   "metadata": {},
   "outputs": [],
   "source": [
    "from scipy import ndimage"
   ]
  },
  {
   "cell_type": "code",
   "execution_count": 30,
   "metadata": {},
   "outputs": [],
   "source": [
    "def heatmap(d, bins=(100,100), smoothing=1.3, cmap='jet'):\n",
    "    def getx(pt):\n",
    "        return pt.coords[0][0]\n",
    "\n",
    "    def gety(pt):\n",
    "        return pt.coords[0][1]\n",
    "\n",
    "    x = list(d.geometry.apply(getx))\n",
    "    y = list(d.geometry.apply(gety))\n",
    "    heatmap, xedges, yedges = np.histogram2d(y, x, bins=bins)\n",
    "    extent = [yedges[0], yedges[-1], xedges[-1], xedges[0]]\n",
    "\n",
    "    logheatmap = np.log(heatmap)\n",
    "    logheatmap[np.isneginf(logheatmap)] = 0\n",
    "    logheatmap = ndimage.filters.gaussian_filter(logheatmap, smoothing, mode='nearest')\n",
    "    \n",
    "    plt.imshow(logheatmap, cmap=cmap, extent=extent)\n",
    "    plt.colorbar()\n",
    "    plt.gca().invert_yaxis()\n",
    "    plt.show()"
   ]
  },
  {
   "cell_type": "code",
   "execution_count": 31,
   "metadata": {},
   "outputs": [
    {
     "name": "stderr",
     "output_type": "stream",
     "text": [
      "/anaconda/envs/py36/lib/python3.6/site-packages/ipykernel_launcher.py:13: RuntimeWarning: divide by zero encountered in log\n",
      "  del sys.path[0]\n"
     ]
    },
    {
     "data": {
      "image/png": "[encoded data removed]",
      "text/plain": [
       "<Figure size 432x288 with 2 Axes>"
      ]
     },
     "metadata": {},
     "output_type": "display_data"
    }
   ],
   "source": [
    "heatmap(borough_park_jobs, bins=50, smoothing=1.5)"
   ]
  },
  {
   "cell_type": "markdown",
   "metadata": {},
   "source": [
    "# Read in population"
   ]
  },
  {
   "cell_type": "code",
   "execution_count": 32,
   "metadata": {},
   "outputs": [],
   "source": [
    "population = df[['origin_lat', 'origin_lon']]\n",
    "population.columns = ['latitude', 'longitude']\n",
    "\n",
    "population = df[['origin_lat', 'origin_lon']]\n",
    "population.columns = ['latitude', 'longitude']\n",
    "geometry = [Point(xy) for xy in zip(population.longitude, population.latitude)]\n",
    "crs = {'init': 'epsg:4326'}\n",
    "population = gpd.GeoDataFrame(population, crs=crs, geometry=geometry)"
   ]
  },
  {
   "cell_type": "code",
   "execution_count": 33,
   "metadata": {},
   "outputs": [
    {
     "name": "stdout",
     "output_type": "stream",
     "text": [
      "CPU times: user 1min 28s, sys: 1.33 s, total: 1min 30s\n",
      "Wall time: 1min 30s\n"
     ]
    }
   ],
   "source": [
    "%%time\n",
    "\n",
    "# clip population to include only those within borough park\n",
    "borough_park_population = gpd.sjoin(population, borough_park, how=\"inner\", op='intersects')"
   ]
  },
  {
   "cell_type": "code",
   "execution_count": 34,
   "metadata": {},
   "outputs": [
    {
     "name": "stdout",
     "output_type": "stream",
     "text": [
      "CPU times: user 1e+03 ns, sys: 0 ns, total: 1e+03 ns\n",
      "Wall time: 3.81 µs\n"
     ]
    }
   ],
   "source": [
    "# reproject to 3857 so we can use meters to set radius later\n",
    "%time\n",
    "borough_park_population_3857 = borough_park_population.to_crs({'init': 'epsg:3857'})"
   ]
  },
  {
   "cell_type": "code",
   "execution_count": 35,
   "metadata": {},
   "outputs": [
    {
     "data": {
      "text/plain": [
       "(24166, 10)"
      ]
     },
     "execution_count": 35,
     "metadata": {},
     "output_type": "execute_result"
    }
   ],
   "source": [
    "borough_park_population_3857.shape"
   ]
  },
  {
   "cell_type": "code",
   "execution_count": 36,
   "metadata": {},
   "outputs": [
    {
     "data": {
      "image/png": "[encoded data removed]",
      "text/plain": [
       "<Figure size 432x288 with 1 Axes>"
      ]
     },
     "metadata": {},
     "output_type": "display_data"
    }
   ],
   "source": [
    "borough_park_population_3857.plot();"
   ]
  },
  {
   "cell_type": "code",
   "execution_count": 37,
   "metadata": {},
   "outputs": [
    {
     "name": "stderr",
     "output_type": "stream",
     "text": [
      "/anaconda/envs/py36/lib/python3.6/site-packages/ipykernel_launcher.py:13: RuntimeWarning: divide by zero encountered in log\n",
      "  del sys.path[0]\n"
     ]
    },
    {
     "data": {
      "image/png": "[encoded data removed]",
      "text/plain": [
       "<Figure size 432x288 with 2 Axes>"
      ]
     },
     "metadata": {},
     "output_type": "display_data"
    }
   ],
   "source": [
    "heatmap(borough_park_population, bins=50, smoothing=1.5)"
   ]
  },
  {
   "cell_type": "markdown",
   "metadata": {},
   "source": [
    "# Read in subway volumes"
   ]
  },
  {
   "cell_type": "code",
   "execution_count": 96,
   "metadata": {},
   "outputs": [],
   "source": [
    "september_subway = pd.read_csv(\"../data/subway_turnstiles/september2017_subway_volumes.csv\")"
   ]
  },
  {
   "cell_type": "code",
   "execution_count": 97,
   "metadata": {},
   "outputs": [],
   "source": [
    "crs = {'init': 'epsg:4326'}\n",
    "geom = [Point(xy) for xy in zip(september_subway['longitude'], september_subway['latitude'])]\n",
    "september_subway = gpd.GeoDataFrame(september_subway, geometry=geom, crs=crs)"
   ]
  },
  {
   "cell_type": "code",
   "execution_count": 98,
   "metadata": {},
   "outputs": [
    {
     "data": {
      "text/html": [
       "<div>\n",
       "<style scoped>\n",
       "    .dataframe tbody tr th:only-of-type {\n",
       "        vertical-align: middle;\n",
       "    }\n",
       "\n",
       "    .dataframe tbody tr th {\n",
       "        vertical-align: top;\n",
       "    }\n",
       "\n",
       "    .dataframe thead th {\n",
       "        text-align: right;\n",
       "    }\n",
       "</style>\n",
       "<table border=\"1\" class=\"dataframe\">\n",
       "  <thead>\n",
       "    <tr style=\"text-align: right;\">\n",
       "      <th></th>\n",
       "      <th>Unnamed: 0</th>\n",
       "      <th>Station</th>\n",
       "      <th>yearMonth</th>\n",
       "      <th>Exits</th>\n",
       "      <th>Entries</th>\n",
       "      <th>Total_Volume</th>\n",
       "      <th>station_name</th>\n",
       "      <th>latitude</th>\n",
       "      <th>longitude</th>\n",
       "      <th>geometry</th>\n",
       "    </tr>\n",
       "  </thead>\n",
       "  <tbody>\n",
       "    <tr>\n",
       "      <th>0</th>\n",
       "      <td>0</td>\n",
       "      <td>1 AV</td>\n",
       "      <td>201709</td>\n",
       "      <td>412637</td>\n",
       "      <td>388384</td>\n",
       "      <td>801021</td>\n",
       "      <td>1 AV</td>\n",
       "      <td>40.768655</td>\n",
       "      <td>-73.958426</td>\n",
       "      <td>POINT (-73.95842590000001 40.7686549)</td>\n",
       "    </tr>\n",
       "    <tr>\n",
       "      <th>1</th>\n",
       "      <td>1</td>\n",
       "      <td>103 ST</td>\n",
       "      <td>201709</td>\n",
       "      <td>391889</td>\n",
       "      <td>613681</td>\n",
       "      <td>1005570</td>\n",
       "      <td>103 ST</td>\n",
       "      <td>40.796088</td>\n",
       "      <td>-73.961453</td>\n",
       "      <td>POINT (-73.96145260000002 40.7960878)</td>\n",
       "    </tr>\n",
       "    <tr>\n",
       "      <th>2</th>\n",
       "      <td>2</td>\n",
       "      <td>103 ST-CORONA</td>\n",
       "      <td>201709</td>\n",
       "      <td>3437856</td>\n",
       "      <td>11942506</td>\n",
       "      <td>15380362</td>\n",
       "      <td>103 ST-CORONA</td>\n",
       "      <td>40.749779</td>\n",
       "      <td>-73.862646</td>\n",
       "      <td>POINT (-73.86264609999998 40.7497795)</td>\n",
       "    </tr>\n",
       "    <tr>\n",
       "      <th>3</th>\n",
       "      <td>3</td>\n",
       "      <td>104 ST</td>\n",
       "      <td>201709</td>\n",
       "      <td>13628</td>\n",
       "      <td>63030</td>\n",
       "      <td>76658</td>\n",
       "      <td>104 ST</td>\n",
       "      <td>40.681333</td>\n",
       "      <td>-73.838846</td>\n",
       "      <td>POINT (-73.83884570000001 40.6813328)</td>\n",
       "    </tr>\n",
       "    <tr>\n",
       "      <th>4</th>\n",
       "      <td>4</td>\n",
       "      <td>110 ST</td>\n",
       "      <td>201709</td>\n",
       "      <td>160893</td>\n",
       "      <td>224511</td>\n",
       "      <td>385404</td>\n",
       "      <td>110 ST</td>\n",
       "      <td>40.798483</td>\n",
       "      <td>-73.952613</td>\n",
       "      <td>POINT (-73.95261309999999 40.7984831)</td>\n",
       "    </tr>\n",
       "  </tbody>\n",
       "</table>\n",
       "</div>"
      ],
      "text/plain": [
       "   Unnamed: 0        Station  yearMonth    Exits   Entries  Total_Volume  \\\n",
       "0           0           1 AV     201709   412637    388384        801021   \n",
       "1           1         103 ST     201709   391889    613681       1005570   \n",
       "2           2  103 ST-CORONA     201709  3437856  11942506      15380362   \n",
       "3           3         104 ST     201709    13628     63030         76658   \n",
       "4           4         110 ST     201709   160893    224511        385404   \n",
       "\n",
       "    station_name   latitude  longitude                               geometry  \n",
       "0           1 AV  40.768655 -73.958426  POINT (-73.95842590000001 40.7686549)  \n",
       "1         103 ST  40.796088 -73.961453  POINT (-73.96145260000002 40.7960878)  \n",
       "2  103 ST-CORONA  40.749779 -73.862646  POINT (-73.86264609999998 40.7497795)  \n",
       "3         104 ST  40.681333 -73.838846  POINT (-73.83884570000001 40.6813328)  \n",
       "4         110 ST  40.798483 -73.952613  POINT (-73.95261309999999 40.7984831)  "
      ]
     },
     "execution_count": 98,
     "metadata": {},
     "output_type": "execute_result"
    }
   ],
   "source": [
    "september_subway.head()"
   ]
  },
  {
   "cell_type": "code",
   "execution_count": 99,
   "metadata": {},
   "outputs": [
    {
     "data": {
      "text/plain": [
       "(378, 10)"
      ]
     },
     "execution_count": 99,
     "metadata": {},
     "output_type": "execute_result"
    }
   ],
   "source": [
    "september_subway.shape"
   ]
  },
  {
   "cell_type": "code",
   "execution_count": 100,
   "metadata": {},
   "outputs": [
    {
     "data": {
      "text/plain": [
       "<matplotlib.axes._subplots.AxesSubplot at 0x1273cb908>"
      ]
     },
     "execution_count": 100,
     "metadata": {},
     "output_type": "execute_result"
    },
    {
     "data": {
      "image/png": "[encoded data removed]",
      "text/plain": [
       "<Figure size 432x288 with 1 Axes>"
      ]
     },
     "metadata": {},
     "output_type": "display_data"
    }
   ],
   "source": [
    "september_subway.plot()"
   ]
  },
  {
   "cell_type": "code",
   "execution_count": 101,
   "metadata": {},
   "outputs": [
    {
     "data": {
      "text/plain": [
       "{'init': 'epsg:4326'}"
      ]
     },
     "execution_count": 101,
     "metadata": {},
     "output_type": "execute_result"
    }
   ],
   "source": [
    "september_subway.crs"
   ]
  },
  {
   "cell_type": "code",
   "execution_count": 122,
   "metadata": {},
   "outputs": [],
   "source": [
    "borough_park_buffer = borough_park.copy()\n",
    "borough_park_buffer['geometry'] = borough_park_buffer['geometry'].buffer(0.01)"
   ]
  },
  {
   "cell_type": "code",
   "execution_count": 123,
   "metadata": {},
   "outputs": [],
   "source": [
    "# clip population to include only those within borough park\n",
    "borough_park_september_subway = gpd.sjoin(september_subway, borough_park_buffer, how=\"inner\", op='intersects')"
   ]
  },
  {
   "cell_type": "code",
   "execution_count": 124,
   "metadata": {},
   "outputs": [
    {
     "data": {
      "text/plain": [
       "{'init': 'epsg:4326'}"
      ]
     },
     "execution_count": 124,
     "metadata": {},
     "output_type": "execute_result"
    }
   ],
   "source": [
    "borough_park_september_subway.crs"
   ]
  },
  {
   "cell_type": "code",
   "execution_count": 125,
   "metadata": {},
   "outputs": [
    {
     "data": {
      "text/plain": [
       "<matplotlib.axes._subplots.AxesSubplot at 0x1c83b0b70>"
      ]
     },
     "execution_count": 125,
     "metadata": {},
     "output_type": "execute_result"
    },
    {
     "data": {
      "image/png": "[encoded data removed]",
      "text/plain": [
       "<Figure size 432x288 with 1 Axes>"
      ]
     },
     "metadata": {},
     "output_type": "display_data"
    }
   ],
   "source": [
    "borough_park_september_subway.plot(column='Total_Volume')"
   ]
  },
  {
   "cell_type": "code",
   "execution_count": 127,
   "metadata": {},
   "outputs": [
    {
     "name": "stderr",
     "output_type": "stream",
     "text": [
      "WARNING:Fiona:CPLE_NotSupported in b\"Normalized/laundered field name: 'Unnamed: 0' to 'Unnamed_ 0'\"\n",
      "WARNING:Fiona:CPLE_NotSupported in b\"Normalized/laundered field name: 'Total_Volume' to 'Total_Volu'\"\n",
      "WARNING:Fiona:CPLE_NotSupported in b\"Normalized/laundered field name: 'station_name' to 'station_na'\"\n",
      "WARNING:Fiona:CPLE_NotSupported in b\"Normalized/laundered field name: 'index_right' to 'index_righ'\"\n"
     ]
    }
   ],
   "source": [
    "borough_park_september_subway.to_file(\"../data/subway_turnstiles/september2017_subway_volumes_borough_park.csv\")"
   ]
  },
  {
   "cell_type": "code",
   "execution_count": 135,
   "metadata": {},
   "outputs": [],
   "source": [
    "borough_park_september_subway_3857 = borough_park_september_subway.to_crs({'init': 'epsg:3857'})"
   ]
  },
  {
   "cell_type": "markdown",
   "metadata": {},
   "source": [
    "# For every intersection, calculate nearby jobs, population and subway volume"
   ]
  },
  {
   "cell_type": "code",
   "execution_count": 169,
   "metadata": {},
   "outputs": [
    {
     "data": {
      "text/html": [
       "<div>\n",
       "<style scoped>\n",
       "    .dataframe tbody tr th:only-of-type {\n",
       "        vertical-align: middle;\n",
       "    }\n",
       "\n",
       "    .dataframe tbody tr th {\n",
       "        vertical-align: top;\n",
       "    }\n",
       "\n",
       "    .dataframe thead th {\n",
       "        text-align: right;\n",
       "    }\n",
       "</style>\n",
       "<table border=\"1\" class=\"dataframe\">\n",
       "  <thead>\n",
       "    <tr style=\"text-align: right;\">\n",
       "      <th></th>\n",
       "      <th>latitude</th>\n",
       "      <th>longitude</th>\n",
       "      <th>geometry</th>\n",
       "      <th>NTACode</th>\n",
       "      <th>NTAName</th>\n",
       "      <th>Borough</th>\n",
       "      <th>Year</th>\n",
       "      <th>Population</th>\n",
       "      <th>numStation</th>\n",
       "    </tr>\n",
       "  </thead>\n",
       "  <tbody>\n",
       "    <tr>\n",
       "      <th>323804</th>\n",
       "      <td>40.641081</td>\n",
       "      <td>-73.998366</td>\n",
       "      <td>POINT (-8237460.411522339 4959544.442247306)</td>\n",
       "      <td>BK88</td>\n",
       "      <td>Borough Park</td>\n",
       "      <td>Brooklyn</td>\n",
       "      <td>2010</td>\n",
       "      <td>106357</td>\n",
       "      <td>0</td>\n",
       "    </tr>\n",
       "    <tr>\n",
       "      <th>323805</th>\n",
       "      <td>40.641081</td>\n",
       "      <td>-73.998366</td>\n",
       "      <td>POINT (-8237460.411522339 4959544.442247306)</td>\n",
       "      <td>BK88</td>\n",
       "      <td>Borough Park</td>\n",
       "      <td>Brooklyn</td>\n",
       "      <td>2010</td>\n",
       "      <td>106357</td>\n",
       "      <td>0</td>\n",
       "    </tr>\n",
       "    <tr>\n",
       "      <th>323806</th>\n",
       "      <td>40.641081</td>\n",
       "      <td>-73.998366</td>\n",
       "      <td>POINT (-8237460.411522339 4959544.442247306)</td>\n",
       "      <td>BK88</td>\n",
       "      <td>Borough Park</td>\n",
       "      <td>Brooklyn</td>\n",
       "      <td>2010</td>\n",
       "      <td>106357</td>\n",
       "      <td>0</td>\n",
       "    </tr>\n",
       "    <tr>\n",
       "      <th>323807</th>\n",
       "      <td>40.641081</td>\n",
       "      <td>-73.998366</td>\n",
       "      <td>POINT (-8237460.411522339 4959544.442247306)</td>\n",
       "      <td>BK88</td>\n",
       "      <td>Borough Park</td>\n",
       "      <td>Brooklyn</td>\n",
       "      <td>2010</td>\n",
       "      <td>106357</td>\n",
       "      <td>0</td>\n",
       "    </tr>\n",
       "    <tr>\n",
       "      <th>323808</th>\n",
       "      <td>40.641081</td>\n",
       "      <td>-73.998366</td>\n",
       "      <td>POINT (-8237460.411522339 4959544.442247306)</td>\n",
       "      <td>BK88</td>\n",
       "      <td>Borough Park</td>\n",
       "      <td>Brooklyn</td>\n",
       "      <td>2010</td>\n",
       "      <td>106357</td>\n",
       "      <td>0</td>\n",
       "    </tr>\n",
       "  </tbody>\n",
       "</table>\n",
       "</div>"
      ],
      "text/plain": [
       "         latitude  longitude                                      geometry  \\\n",
       "323804  40.641081 -73.998366  POINT (-8237460.411522339 4959544.442247306)   \n",
       "323805  40.641081 -73.998366  POINT (-8237460.411522339 4959544.442247306)   \n",
       "323806  40.641081 -73.998366  POINT (-8237460.411522339 4959544.442247306)   \n",
       "323807  40.641081 -73.998366  POINT (-8237460.411522339 4959544.442247306)   \n",
       "323808  40.641081 -73.998366  POINT (-8237460.411522339 4959544.442247306)   \n",
       "\n",
       "       NTACode       NTAName   Borough  Year  Population  numStation  \n",
       "323804    BK88  Borough Park  Brooklyn  2010      106357           0  \n",
       "323805    BK88  Borough Park  Brooklyn  2010      106357           0  \n",
       "323806    BK88  Borough Park  Brooklyn  2010      106357           0  \n",
       "323807    BK88  Borough Park  Brooklyn  2010      106357           0  \n",
       "323808    BK88  Borough Park  Brooklyn  2010      106357           0  "
      ]
     },
     "execution_count": 169,
     "metadata": {},
     "output_type": "execute_result"
    }
   ],
   "source": [
    "del borough_park_jobs_3857['index_right']\n",
    "borough_park_jobs_3857.head()"
   ]
  },
  {
   "cell_type": "code",
   "execution_count": 170,
   "metadata": {},
   "outputs": [
    {
     "data": {
      "text/html": [
       "<div>\n",
       "<style scoped>\n",
       "    .dataframe tbody tr th:only-of-type {\n",
       "        vertical-align: middle;\n",
       "    }\n",
       "\n",
       "    .dataframe tbody tr th {\n",
       "        vertical-align: top;\n",
       "    }\n",
       "\n",
       "    .dataframe thead th {\n",
       "        text-align: right;\n",
       "    }\n",
       "</style>\n",
       "<table border=\"1\" class=\"dataframe\">\n",
       "  <thead>\n",
       "    <tr style=\"text-align: right;\">\n",
       "      <th></th>\n",
       "      <th>latitude</th>\n",
       "      <th>longitude</th>\n",
       "      <th>geometry</th>\n",
       "      <th>NTACode</th>\n",
       "      <th>NTAName</th>\n",
       "      <th>Borough</th>\n",
       "      <th>Year</th>\n",
       "      <th>Population</th>\n",
       "      <th>numStation</th>\n",
       "    </tr>\n",
       "  </thead>\n",
       "  <tbody>\n",
       "    <tr>\n",
       "      <th>719</th>\n",
       "      <td>40.636461</td>\n",
       "      <td>-73.981659</td>\n",
       "      <td>POINT (-8235600.596789655 4958866.73823975)</td>\n",
       "      <td>BK88</td>\n",
       "      <td>Borough Park</td>\n",
       "      <td>Brooklyn</td>\n",
       "      <td>2010</td>\n",
       "      <td>106357</td>\n",
       "      <td>0</td>\n",
       "    </tr>\n",
       "    <tr>\n",
       "      <th>1632</th>\n",
       "      <td>40.639891</td>\n",
       "      <td>-73.988850</td>\n",
       "      <td>POINT (-8236401.106379899 4959369.851633735)</td>\n",
       "      <td>BK88</td>\n",
       "      <td>Borough Park</td>\n",
       "      <td>Brooklyn</td>\n",
       "      <td>2010</td>\n",
       "      <td>106357</td>\n",
       "      <td>0</td>\n",
       "    </tr>\n",
       "    <tr>\n",
       "      <th>1933</th>\n",
       "      <td>40.633034</td>\n",
       "      <td>-74.003162</td>\n",
       "      <td>POINT (-8237994.322064081 4958363.988068293)</td>\n",
       "      <td>BK88</td>\n",
       "      <td>Borough Park</td>\n",
       "      <td>Brooklyn</td>\n",
       "      <td>2010</td>\n",
       "      <td>106357</td>\n",
       "      <td>0</td>\n",
       "    </tr>\n",
       "    <tr>\n",
       "      <th>1936</th>\n",
       "      <td>40.634640</td>\n",
       "      <td>-73.990726</td>\n",
       "      <td>POINT (-8236609.919480728 4958599.598114852)</td>\n",
       "      <td>BK88</td>\n",
       "      <td>Borough Park</td>\n",
       "      <td>Brooklyn</td>\n",
       "      <td>2010</td>\n",
       "      <td>106357</td>\n",
       "      <td>0</td>\n",
       "    </tr>\n",
       "    <tr>\n",
       "      <th>2705</th>\n",
       "      <td>40.632563</td>\n",
       "      <td>-73.985759</td>\n",
       "      <td>POINT (-8236057.062361654 4958294.987170252)</td>\n",
       "      <td>BK88</td>\n",
       "      <td>Borough Park</td>\n",
       "      <td>Brooklyn</td>\n",
       "      <td>2010</td>\n",
       "      <td>106357</td>\n",
       "      <td>0</td>\n",
       "    </tr>\n",
       "  </tbody>\n",
       "</table>\n",
       "</div>"
      ],
      "text/plain": [
       "       latitude  longitude                                      geometry  \\\n",
       "719   40.636461 -73.981659   POINT (-8235600.596789655 4958866.73823975)   \n",
       "1632  40.639891 -73.988850  POINT (-8236401.106379899 4959369.851633735)   \n",
       "1933  40.633034 -74.003162  POINT (-8237994.322064081 4958363.988068293)   \n",
       "1936  40.634640 -73.990726  POINT (-8236609.919480728 4958599.598114852)   \n",
       "2705  40.632563 -73.985759  POINT (-8236057.062361654 4958294.987170252)   \n",
       "\n",
       "     NTACode       NTAName   Borough  Year  Population  numStation  \n",
       "719     BK88  Borough Park  Brooklyn  2010      106357           0  \n",
       "1632    BK88  Borough Park  Brooklyn  2010      106357           0  \n",
       "1933    BK88  Borough Park  Brooklyn  2010      106357           0  \n",
       "1936    BK88  Borough Park  Brooklyn  2010      106357           0  \n",
       "2705    BK88  Borough Park  Brooklyn  2010      106357           0  "
      ]
     },
     "execution_count": 170,
     "metadata": {},
     "output_type": "execute_result"
    }
   ],
   "source": [
    "del borough_park_population_3857['index_right']\n",
    "borough_park_population_3857.head()"
   ]
  },
  {
   "cell_type": "code",
   "execution_count": 171,
   "metadata": {},
   "outputs": [
    {
     "data": {
      "text/html": [
       "<div>\n",
       "<style scoped>\n",
       "    .dataframe tbody tr th:only-of-type {\n",
       "        vertical-align: middle;\n",
       "    }\n",
       "\n",
       "    .dataframe tbody tr th {\n",
       "        vertical-align: top;\n",
       "    }\n",
       "\n",
       "    .dataframe thead th {\n",
       "        text-align: right;\n",
       "    }\n",
       "</style>\n",
       "<table border=\"1\" class=\"dataframe\">\n",
       "  <thead>\n",
       "    <tr style=\"text-align: right;\">\n",
       "      <th></th>\n",
       "      <th>Unnamed: 0</th>\n",
       "      <th>Station</th>\n",
       "      <th>yearMonth</th>\n",
       "      <th>Exits</th>\n",
       "      <th>Entries</th>\n",
       "      <th>Total_Volume</th>\n",
       "      <th>station_name</th>\n",
       "      <th>latitude</th>\n",
       "      <th>longitude</th>\n",
       "      <th>geometry</th>\n",
       "      <th>NTACode</th>\n",
       "      <th>NTAName</th>\n",
       "      <th>Borough</th>\n",
       "      <th>Year</th>\n",
       "      <th>Population</th>\n",
       "      <th>numStation</th>\n",
       "    </tr>\n",
       "  </thead>\n",
       "  <tbody>\n",
       "    <tr>\n",
       "      <th>31</th>\n",
       "      <td>31</td>\n",
       "      <td>18 AV</td>\n",
       "      <td>201709</td>\n",
       "      <td>102161</td>\n",
       "      <td>275497</td>\n",
       "      <td>377658</td>\n",
       "      <td>18 AV</td>\n",
       "      <td>40.620091</td>\n",
       "      <td>-73.989482</td>\n",
       "      <td>POINT (-8236471.493693925 4956465.643189163)</td>\n",
       "      <td>BK88</td>\n",
       "      <td>Borough Park</td>\n",
       "      <td>Brooklyn</td>\n",
       "      <td>2010</td>\n",
       "      <td>106357</td>\n",
       "      <td>0</td>\n",
       "    </tr>\n",
       "    <tr>\n",
       "      <th>39</th>\n",
       "      <td>39</td>\n",
       "      <td>20 AV</td>\n",
       "      <td>201709</td>\n",
       "      <td>28004</td>\n",
       "      <td>159106</td>\n",
       "      <td>187110</td>\n",
       "      <td>20 AV</td>\n",
       "      <td>40.617304</td>\n",
       "      <td>-73.984833</td>\n",
       "      <td>POINT (-8235953.913721482 4956056.946106019)</td>\n",
       "      <td>BK88</td>\n",
       "      <td>Borough Park</td>\n",
       "      <td>Brooklyn</td>\n",
       "      <td>2010</td>\n",
       "      <td>106357</td>\n",
       "      <td>0</td>\n",
       "    </tr>\n",
       "    <tr>\n",
       "      <th>82</th>\n",
       "      <td>82</td>\n",
       "      <td>55 ST</td>\n",
       "      <td>201709</td>\n",
       "      <td>16548</td>\n",
       "      <td>37654</td>\n",
       "      <td>54202</td>\n",
       "      <td>55 ST</td>\n",
       "      <td>40.631435</td>\n",
       "      <td>-73.995476</td>\n",
       "      <td>POINT (-8237138.709325896 4958129.469140499)</td>\n",
       "      <td>BK88</td>\n",
       "      <td>Borough Park</td>\n",
       "      <td>Brooklyn</td>\n",
       "      <td>2010</td>\n",
       "      <td>106357</td>\n",
       "      <td>0</td>\n",
       "    </tr>\n",
       "    <tr>\n",
       "      <th>96</th>\n",
       "      <td>96</td>\n",
       "      <td>71 ST</td>\n",
       "      <td>201709</td>\n",
       "      <td>33304</td>\n",
       "      <td>116680</td>\n",
       "      <td>149984</td>\n",
       "      <td>71 ST</td>\n",
       "      <td>40.619589</td>\n",
       "      <td>-73.998864</td>\n",
       "      <td>POINT (-8237515.859760704 4956392.021313072)</td>\n",
       "      <td>BK88</td>\n",
       "      <td>Borough Park</td>\n",
       "      <td>Brooklyn</td>\n",
       "      <td>2010</td>\n",
       "      <td>106357</td>\n",
       "      <td>0</td>\n",
       "    </tr>\n",
       "    <tr>\n",
       "      <th>113</th>\n",
       "      <td>113</td>\n",
       "      <td>9 AV</td>\n",
       "      <td>201709</td>\n",
       "      <td>93030</td>\n",
       "      <td>111850</td>\n",
       "      <td>204880</td>\n",
       "      <td>9 AV</td>\n",
       "      <td>40.646292</td>\n",
       "      <td>-73.994324</td>\n",
       "      <td>POINT (-8237010.469272499 4960308.974836171)</td>\n",
       "      <td>BK88</td>\n",
       "      <td>Borough Park</td>\n",
       "      <td>Brooklyn</td>\n",
       "      <td>2010</td>\n",
       "      <td>106357</td>\n",
       "      <td>0</td>\n",
       "    </tr>\n",
       "  </tbody>\n",
       "</table>\n",
       "</div>"
      ],
      "text/plain": [
       "     Unnamed: 0 Station  yearMonth   Exits  Entries  Total_Volume  \\\n",
       "31           31   18 AV     201709  102161   275497        377658   \n",
       "39           39   20 AV     201709   28004   159106        187110   \n",
       "82           82   55 ST     201709   16548    37654         54202   \n",
       "96           96   71 ST     201709   33304   116680        149984   \n",
       "113         113    9 AV     201709   93030   111850        204880   \n",
       "\n",
       "    station_name   latitude  longitude  \\\n",
       "31         18 AV  40.620091 -73.989482   \n",
       "39         20 AV  40.617304 -73.984833   \n",
       "82         55 ST  40.631435 -73.995476   \n",
       "96         71 ST  40.619589 -73.998864   \n",
       "113         9 AV  40.646292 -73.994324   \n",
       "\n",
       "                                         geometry NTACode       NTAName  \\\n",
       "31   POINT (-8236471.493693925 4956465.643189163)    BK88  Borough Park   \n",
       "39   POINT (-8235953.913721482 4956056.946106019)    BK88  Borough Park   \n",
       "82   POINT (-8237138.709325896 4958129.469140499)    BK88  Borough Park   \n",
       "96   POINT (-8237515.859760704 4956392.021313072)    BK88  Borough Park   \n",
       "113  POINT (-8237010.469272499 4960308.974836171)    BK88  Borough Park   \n",
       "\n",
       "      Borough  Year  Population  numStation  \n",
       "31   Brooklyn  2010      106357           0  \n",
       "39   Brooklyn  2010      106357           0  \n",
       "82   Brooklyn  2010      106357           0  \n",
       "96   Brooklyn  2010      106357           0  \n",
       "113  Brooklyn  2010      106357           0  "
      ]
     },
     "execution_count": 171,
     "metadata": {},
     "output_type": "execute_result"
    }
   ],
   "source": [
    "del borough_park_september_subway_3857['index_right']\n",
    "borough_park_september_subway_3857.head()"
   ]
  },
  {
   "cell_type": "code",
   "execution_count": 172,
   "metadata": {},
   "outputs": [
    {
     "data": {
      "text/html": [
       "<div>\n",
       "<style scoped>\n",
       "    .dataframe tbody tr th:only-of-type {\n",
       "        vertical-align: middle;\n",
       "    }\n",
       "\n",
       "    .dataframe tbody tr th {\n",
       "        vertical-align: top;\n",
       "    }\n",
       "\n",
       "    .dataframe thead th {\n",
       "        text-align: right;\n",
       "    }\n",
       "</style>\n",
       "<table border=\"1\" class=\"dataframe\">\n",
       "  <thead>\n",
       "    <tr style=\"text-align: right;\">\n",
       "      <th></th>\n",
       "      <th>id</th>\n",
       "      <th>geometry</th>\n",
       "    </tr>\n",
       "  </thead>\n",
       "  <tbody>\n",
       "    <tr>\n",
       "      <th>0</th>\n",
       "      <td>0</td>\n",
       "      <td>POINT (-8234747.733642889 4955578.345774663)</td>\n",
       "    </tr>\n",
       "    <tr>\n",
       "      <th>1</th>\n",
       "      <td>1</td>\n",
       "      <td>POINT (-8234878.478384824 4955678.563065642)</td>\n",
       "    </tr>\n",
       "    <tr>\n",
       "      <th>2</th>\n",
       "      <td>2</td>\n",
       "      <td>POINT (-8235062.712142089 4955686.33530107)</td>\n",
       "    </tr>\n",
       "    <tr>\n",
       "      <th>3</th>\n",
       "      <td>3</td>\n",
       "      <td>POINT (-8234995.47516965 4955771.68365043)</td>\n",
       "    </tr>\n",
       "    <tr>\n",
       "      <th>4</th>\n",
       "      <td>4</td>\n",
       "      <td>POINT (-8234897.614205291 4955818.654889079)</td>\n",
       "    </tr>\n",
       "  </tbody>\n",
       "</table>\n",
       "</div>"
      ],
      "text/plain": [
       "   id                                      geometry\n",
       "0   0  POINT (-8234747.733642889 4955578.345774663)\n",
       "1   1  POINT (-8234878.478384824 4955678.563065642)\n",
       "2   2   POINT (-8235062.712142089 4955686.33530107)\n",
       "3   3    POINT (-8234995.47516965 4955771.68365043)\n",
       "4   4  POINT (-8234897.614205291 4955818.654889079)"
      ]
     },
     "execution_count": 172,
     "metadata": {},
     "output_type": "execute_result"
    }
   ],
   "source": [
    "intersections.head()"
   ]
  },
  {
   "cell_type": "code",
   "execution_count": 208,
   "metadata": {},
   "outputs": [],
   "source": [
    "# 800 meter buffer = approx 0.5 miles\n",
    "intersections_buffer = intersections.copy()\n",
    "intersections_buffer['geometry'] = intersections_buffer.buffer(800)"
   ]
  },
  {
   "cell_type": "code",
   "execution_count": 209,
   "metadata": {},
   "outputs": [
    {
     "name": "stderr",
     "output_type": "stream",
     "text": [
      "100%|██████████| 361/361 [12:23<00:00,  2.06s/it]\n"
     ]
    }
   ],
   "source": [
    "ids = []\n",
    "jobs = []\n",
    "populations = []\n",
    "subway_volumes = []\n",
    "\n",
    "for i in tqdm(intersections_buffer.index):\n",
    "    \n",
    "    ids.append(i)\n",
    "    \n",
    "    node = intersections_buffer.loc[[i]]\n",
    "    \n",
    "    # count jobs\n",
    "    job_join = gpd.sjoin(borough_park_jobs_3857, node, how='inner', op='intersects')\n",
    "    job_count = len(job_join)\n",
    "    jobs.append(job_count)\n",
    "    \n",
    "    # count people\n",
    "    population_join = gpd.sjoin(borough_park_population_3857, node, how='inner', op='intersects')\n",
    "    population_count = len(population_join)\n",
    "    populations.append(population_count)\n",
    "    \n",
    "    # sum subway volumes\n",
    "    subway_join = gpd.sjoin(borough_park_september_subway_3857, node, how='inner', op='intersects')\n",
    "    subway_sum = subway_join['Total_Volume'].sum()\n",
    "    subway_volumes.append(subway_sum)"
   ]
  },
  {
   "cell_type": "code",
   "execution_count": 353,
   "metadata": {},
   "outputs": [],
   "source": [
    "results = pd.DataFrame()\n",
    "results['id'] = ids\n",
    "results['jobs'] = jobs\n",
    "results['population'] = populations\n",
    "results['subway_volume'] = subway_volumes\n",
    "results['total'] = results['jobs'] + results['population'] + results['subway_volume'] / 300"
   ]
  },
  {
   "cell_type": "code",
   "execution_count": 354,
   "metadata": {},
   "outputs": [
    {
     "data": {
      "text/html": [
       "<div>\n",
       "<style scoped>\n",
       "    .dataframe tbody tr th:only-of-type {\n",
       "        vertical-align: middle;\n",
       "    }\n",
       "\n",
       "    .dataframe tbody tr th {\n",
       "        vertical-align: top;\n",
       "    }\n",
       "\n",
       "    .dataframe thead th {\n",
       "        text-align: right;\n",
       "    }\n",
       "</style>\n",
       "<table border=\"1\" class=\"dataframe\">\n",
       "  <thead>\n",
       "    <tr style=\"text-align: right;\">\n",
       "      <th></th>\n",
       "      <th>id</th>\n",
       "      <th>jobs</th>\n",
       "      <th>population</th>\n",
       "      <th>subway_volume</th>\n",
       "      <th>total</th>\n",
       "    </tr>\n",
       "  </thead>\n",
       "  <tbody>\n",
       "    <tr>\n",
       "      <th>351</th>\n",
       "      <td>351</td>\n",
       "      <td>13677</td>\n",
       "      <td>6649</td>\n",
       "      <td>54202</td>\n",
       "      <td>20506.673333</td>\n",
       "    </tr>\n",
       "    <tr>\n",
       "      <th>277</th>\n",
       "      <td>277</td>\n",
       "      <td>14199</td>\n",
       "      <td>6219</td>\n",
       "      <td>0</td>\n",
       "      <td>20418.000000</td>\n",
       "    </tr>\n",
       "    <tr>\n",
       "      <th>345</th>\n",
       "      <td>345</td>\n",
       "      <td>13648</td>\n",
       "      <td>6227</td>\n",
       "      <td>54202</td>\n",
       "      <td>20055.673333</td>\n",
       "    </tr>\n",
       "    <tr>\n",
       "      <th>261</th>\n",
       "      <td>261</td>\n",
       "      <td>13666</td>\n",
       "      <td>6264</td>\n",
       "      <td>0</td>\n",
       "      <td>19930.000000</td>\n",
       "    </tr>\n",
       "    <tr>\n",
       "      <th>276</th>\n",
       "      <td>276</td>\n",
       "      <td>13505</td>\n",
       "      <td>6325</td>\n",
       "      <td>0</td>\n",
       "      <td>19830.000000</td>\n",
       "    </tr>\n",
       "    <tr>\n",
       "      <th>249</th>\n",
       "      <td>249</td>\n",
       "      <td>13623</td>\n",
       "      <td>6014</td>\n",
       "      <td>54202</td>\n",
       "      <td>19817.673333</td>\n",
       "    </tr>\n",
       "    <tr>\n",
       "      <th>231</th>\n",
       "      <td>231</td>\n",
       "      <td>13503</td>\n",
       "      <td>5940</td>\n",
       "      <td>54202</td>\n",
       "      <td>19623.673333</td>\n",
       "    </tr>\n",
       "    <tr>\n",
       "      <th>349</th>\n",
       "      <td>349</td>\n",
       "      <td>13561</td>\n",
       "      <td>5803</td>\n",
       "      <td>54202</td>\n",
       "      <td>19544.673333</td>\n",
       "    </tr>\n",
       "    <tr>\n",
       "      <th>216</th>\n",
       "      <td>216</td>\n",
       "      <td>13523</td>\n",
       "      <td>5791</td>\n",
       "      <td>54202</td>\n",
       "      <td>19494.673333</td>\n",
       "    </tr>\n",
       "    <tr>\n",
       "      <th>253</th>\n",
       "      <td>253</td>\n",
       "      <td>13286</td>\n",
       "      <td>6011</td>\n",
       "      <td>54202</td>\n",
       "      <td>19477.673333</td>\n",
       "    </tr>\n",
       "  </tbody>\n",
       "</table>\n",
       "</div>"
      ],
      "text/plain": [
       "      id   jobs  population  subway_volume         total\n",
       "351  351  13677        6649          54202  20506.673333\n",
       "277  277  14199        6219              0  20418.000000\n",
       "345  345  13648        6227          54202  20055.673333\n",
       "261  261  13666        6264              0  19930.000000\n",
       "276  276  13505        6325              0  19830.000000\n",
       "249  249  13623        6014          54202  19817.673333\n",
       "231  231  13503        5940          54202  19623.673333\n",
       "349  349  13561        5803          54202  19544.673333\n",
       "216  216  13523        5791          54202  19494.673333\n",
       "253  253  13286        6011          54202  19477.673333"
      ]
     },
     "execution_count": 354,
     "metadata": {},
     "output_type": "execute_result"
    }
   ],
   "source": [
    "results.sort_values('total', ascending=False).head(10)"
   ]
  },
  {
   "cell_type": "code",
   "execution_count": 387,
   "metadata": {},
   "outputs": [],
   "source": [
    "top_ids = list(results.sort_values('total', ascending=False).head(25)['id'])"
   ]
  },
  {
   "cell_type": "code",
   "execution_count": 388,
   "metadata": {},
   "outputs": [],
   "source": [
    "intersections_test = intersections.copy()"
   ]
  },
  {
   "cell_type": "code",
   "execution_count": 389,
   "metadata": {},
   "outputs": [],
   "source": [
    "intersections_test['query'] = 0"
   ]
  },
  {
   "cell_type": "code",
   "execution_count": 390,
   "metadata": {},
   "outputs": [
    {
     "name": "stderr",
     "output_type": "stream",
     "text": [
      "/anaconda/envs/py36/lib/python3.6/site-packages/ipykernel_launcher.py:2: DeprecationWarning: \n",
      ".ix is deprecated. Please use\n",
      ".loc for label based indexing or\n",
      ".iloc for positional indexing\n",
      "\n",
      "See the documentation here:\n",
      "http://pandas.pydata.org/pandas-docs/stable/indexing.html#ix-indexer-is-deprecated\n",
      "  \n"
     ]
    }
   ],
   "source": [
    "for i in top_ids:\n",
    "    intersections_test.ix[i, 'query'] = 1"
   ]
  },
  {
   "cell_type": "code",
   "execution_count": 391,
   "metadata": {},
   "outputs": [
    {
     "data": {
      "text/plain": [
       "<matplotlib.axes._subplots.AxesSubplot at 0x12c54c588>"
      ]
     },
     "execution_count": 391,
     "metadata": {},
     "output_type": "execute_result"
    },
    {
     "data": {
      "image/png": "[encoded data removed]",
      "text/plain": [
       "<Figure size 432x288 with 1 Axes>"
      ]
     },
     "metadata": {},
     "output_type": "display_data"
    }
   ],
   "source": [
    "intersections_test.plot(column='query')"
   ]
  },
  {
   "cell_type": "code",
   "execution_count": 392,
   "metadata": {},
   "outputs": [
    {
     "data": {
      "text/plain": [
       "<matplotlib.axes._subplots.AxesSubplot at 0x12be2bfd0>"
      ]
     },
     "execution_count": 392,
     "metadata": {},
     "output_type": "execute_result"
    },
    {
     "data": {
      "image/png": "[encoded data removed]",
      "text/plain": [
       "<Figure size 432x288 with 1 Axes>"
      ]
     },
     "metadata": {},
     "output_type": "display_data"
    }
   ],
   "source": [
    "intersections_test.plot(column='query')"
   ]
  },
  {
   "cell_type": "code",
   "execution_count": null,
   "metadata": {},
   "outputs": [],
   "source": []
  },
  {
   "cell_type": "code",
   "execution_count": null,
   "metadata": {},
   "outputs": [],
   "source": []
  },
  {
   "cell_type": "code",
   "execution_count": null,
   "metadata": {},
   "outputs": [],
   "source": []
  }
 ],
 "metadata": {
  "kernelspec": {
   "display_name": "Python 3",
   "language": "python",
   "name": "python3"
  },
  "language_info": {
   "codemirror_mode": {
    "name": "ipython",
    "version": 3
   },
   "file_extension": ".py",
   "mimetype": "text/x-python",
   "name": "python",
   "nbconvert_exporter": "python",
   "pygments_lexer": "ipython3",
   "version": "3.6.3"
  }
 },
 "nbformat": 4,
 "nbformat_minor": 2
}
