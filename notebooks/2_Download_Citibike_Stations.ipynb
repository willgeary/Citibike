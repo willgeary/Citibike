{
 "cells": [
  {
   "cell_type": "markdown",
   "metadata": {},
   "source": [
    "# Download Citibike stations"
   ]
  },
  {
   "cell_type": "code",
   "execution_count": 1,
   "metadata": {},
   "outputs": [],
   "source": [
    "import requests\n",
    "import pandas as pd\n",
    "import geopandas as gpd\n",
    "from shapely.geometry import Point\n",
    "import matplotlib.pyplot as plt\n",
    "from os.path import join\n",
    "import os"
   ]
  },
  {
   "cell_type": "code",
   "execution_count": 2,
   "metadata": {},
   "outputs": [],
   "source": [
    "stations_url = \"https://feeds.citibikenyc.com/stations/stations.json\"\n",
    "stations_response = requests.get(stations_url)\n",
    "stations_json = stations_response.json()"
   ]
  },
  {
   "cell_type": "code",
   "execution_count": 3,
   "metadata": {},
   "outputs": [],
   "source": [
    "station_ids = []\n",
    "station_lats = []\n",
    "station_lons = []\n",
    "station_names = []\n",
    "station_test = []\n",
    "station_docks = []\n",
    "\n",
    "for i in stations_json['stationBeanList']:\n",
    "    station_ids.append(i['id'])\n",
    "    station_lats.append(i['latitude'])\n",
    "    station_lons.append(i['longitude'])\n",
    "    station_names.append(i['stationName'])\n",
    "    station_test.append(i['testStation'])\n",
    "    station_docks.append(i['totalDocks'])\n",
    "    \n",
    "stations = pd.DataFrame()\n",
    "stations['id'] = station_ids\n",
    "stations['latitude'] = station_lats\n",
    "stations['longitude'] = station_lons\n",
    "stations['name'] = station_names\n",
    "stations['test'] = station_test\n",
    "stations['docks'] = station_docks\n",
    "\n",
    "stations.sort_values(by='id', inplace=True)\n",
    "stations.index=stations['id']\n",
    "\n",
    "# Add spatial reference to dataframe\n",
    "geometry = [Point(xy) for xy in zip(stations.longitude, stations.latitude)]\n",
    "stations = stations.drop(['longitude', 'latitude'], axis=1)\n",
    "crs = {'init': 'epsg:4326'}\n",
    "stations = gpd.GeoDataFrame(stations, crs=crs, geometry=geometry)"
   ]
  },
  {
   "cell_type": "code",
   "execution_count": 4,
   "metadata": {},
   "outputs": [
    {
     "data": {
      "text/html": [
       "<div>\n",
       "<style scoped>\n",
       "    .dataframe tbody tr th:only-of-type {\n",
       "        vertical-align: middle;\n",
       "    }\n",
       "\n",
       "    .dataframe tbody tr th {\n",
       "        vertical-align: top;\n",
       "    }\n",
       "\n",
       "    .dataframe thead th {\n",
       "        text-align: right;\n",
       "    }\n",
       "</style>\n",
       "<table border=\"1\" class=\"dataframe\">\n",
       "  <thead>\n",
       "    <tr style=\"text-align: right;\">\n",
       "      <th></th>\n",
       "      <th>id</th>\n",
       "      <th>name</th>\n",
       "      <th>test</th>\n",
       "      <th>docks</th>\n",
       "      <th>geometry</th>\n",
       "    </tr>\n",
       "    <tr>\n",
       "      <th>id</th>\n",
       "      <th></th>\n",
       "      <th></th>\n",
       "      <th></th>\n",
       "      <th></th>\n",
       "      <th></th>\n",
       "    </tr>\n",
       "  </thead>\n",
       "  <tbody>\n",
       "    <tr>\n",
       "      <th>72</th>\n",
       "      <td>72</td>\n",
       "      <td>W 52 St &amp; 11 Ave</td>\n",
       "      <td>False</td>\n",
       "      <td>39</td>\n",
       "      <td>POINT (-73.99392888 40.76727216)</td>\n",
       "    </tr>\n",
       "    <tr>\n",
       "      <th>79</th>\n",
       "      <td>79</td>\n",
       "      <td>Franklin St &amp; W Broadway</td>\n",
       "      <td>False</td>\n",
       "      <td>33</td>\n",
       "      <td>POINT (-74.00666661 40.71911552)</td>\n",
       "    </tr>\n",
       "    <tr>\n",
       "      <th>82</th>\n",
       "      <td>82</td>\n",
       "      <td>St James Pl &amp; Pearl St</td>\n",
       "      <td>False</td>\n",
       "      <td>27</td>\n",
       "      <td>POINT (-74.00016545 40.71117416)</td>\n",
       "    </tr>\n",
       "    <tr>\n",
       "      <th>83</th>\n",
       "      <td>83</td>\n",
       "      <td>Atlantic Ave &amp; Fort Greene Pl</td>\n",
       "      <td>False</td>\n",
       "      <td>62</td>\n",
       "      <td>POINT (-73.97632328 40.68382604)</td>\n",
       "    </tr>\n",
       "    <tr>\n",
       "      <th>119</th>\n",
       "      <td>119</td>\n",
       "      <td>Park Ave &amp; St Edwards St</td>\n",
       "      <td>False</td>\n",
       "      <td>19</td>\n",
       "      <td>POINT (-73.97803415 40.69608941)</td>\n",
       "    </tr>\n",
       "  </tbody>\n",
       "</table>\n",
       "</div>"
      ],
      "text/plain": [
       "      id                           name   test  docks  \\\n",
       "id                                                      \n",
       "72    72               W 52 St & 11 Ave  False     39   \n",
       "79    79       Franklin St & W Broadway  False     33   \n",
       "82    82         St James Pl & Pearl St  False     27   \n",
       "83    83  Atlantic Ave & Fort Greene Pl  False     62   \n",
       "119  119       Park Ave & St Edwards St  False     19   \n",
       "\n",
       "                             geometry  \n",
       "id                                     \n",
       "72   POINT (-73.99392888 40.76727216)  \n",
       "79   POINT (-74.00666661 40.71911552)  \n",
       "82   POINT (-74.00016545 40.71117416)  \n",
       "83   POINT (-73.97632328 40.68382604)  \n",
       "119  POINT (-73.97803415 40.69608941)  "
      ]
     },
     "execution_count": 4,
     "metadata": {},
     "output_type": "execute_result"
    }
   ],
   "source": [
    "stations.head()"
   ]
  },
  {
   "cell_type": "code",
   "execution_count": 5,
   "metadata": {},
   "outputs": [
    {
     "data": {
      "image/png": "[encoded data removed]",
      "text/plain": [
       "<Figure size 1080x1080 with 1 Axes>"
      ]
     },
     "metadata": {},
     "output_type": "display_data"
    },
    {
     "name": "stdout",
     "output_type": "stream",
     "text": [
      "Citibike Stations\n"
     ]
    }
   ],
   "source": [
    "f, ax = plt.subplots(1, figsize=(15,15))\n",
    "stations.plot(ax=ax, )\n",
    "ax.set_axis_off()\n",
    "plt.axis('equal')\n",
    "plt.show()\n",
    "print(\"Citibike Stations\")"
   ]
  },
  {
   "cell_type": "code",
   "execution_count": 6,
   "metadata": {},
   "outputs": [],
   "source": [
    "# https://github.com/geopandas/geopandas/issues/437\n",
    "\n",
    "def gdf_bool_to_int(gdf):\n",
    "    \"\"\"For a given GeoDataFrame, returns a copy that\n",
    "    recasts all `bool`-type columns as `int`.\n",
    "\n",
    "    GeoDataFrame -> GeoDataFrame\"\"\"\n",
    "    df = gdf.copy()\n",
    "    coltypes = gpd.io.file.infer_schema(df)['properties']\n",
    "    for c in coltypes.items():\n",
    "        if c[1] == 'bool':\n",
    "            colname = c[0]\n",
    "            df[colname] = df[colname].astype('int')\n",
    "    return df"
   ]
  },
  {
   "cell_type": "code",
   "execution_count": 7,
   "metadata": {},
   "outputs": [],
   "source": [
    "stations = gdf_bool_to_int(stations)"
   ]
  },
  {
   "cell_type": "code",
   "execution_count": 8,
   "metadata": {},
   "outputs": [],
   "source": [
    "root = \"..\"\n",
    "\n",
    "output_dir = join(root, \"data\", \"citibike_stations\")\n",
    "\n",
    "# Make data directory\n",
    "if not os.path.exists(output_dir):\n",
    "    os.mkdir(output_dir)\n",
    "\n",
    "stations.to_file(output_dir)"
   ]
  }
 ],
 "metadata": {
  "kernelspec": {
   "display_name": "Python 3",
   "language": "python",
   "name": "python3"
  },
  "language_info": {
   "codemirror_mode": {
    "name": "ipython",
    "version": 3
   },
   "file_extension": ".py",
   "mimetype": "text/x-python",
   "name": "python",
   "nbconvert_exporter": "python",
   "pygments_lexer": "ipython3",
   "version": "3.6.3"
  }
 },
 "nbformat": 4,
 "nbformat_minor": 2
}
